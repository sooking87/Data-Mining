{
 "cells": [
  {
   "attachments": {},
   "cell_type": "markdown",
   "metadata": {},
   "source": [
    "정규화를 해서 dt에 넣어보기 -> 모든 데이터를 0~1 사이의 값이 될 수 있또록\n",
    "lead_time, avg_price_per_room -> cate ->  num으로 바꾸기\n"
   ]
  },
  {
   "cell_type": "code",
   "execution_count": 7,
   "metadata": {},
   "outputs": [
    {
     "name": "stdout",
     "output_type": "stream",
     "text": [
      "Collecting imbalanced-learn"
     ]
    },
    {
     "name": "stderr",
     "output_type": "stream",
     "text": [
      "WARNING: Ignoring invalid distribution -rotobuf (c:\\users\\sksoh\\appdata\\local\\programs\\python\\python310\\lib\\site-packages)\n",
      "WARNING: Ignoring invalid distribution -pencv-python-headless (c:\\users\\sksoh\\appdata\\local\\programs\\python\\python310\\lib\\site-packages)\n",
      "WARNING: Ignoring invalid distribution -rotobuf (c:\\users\\sksoh\\appdata\\local\\programs\\python\\python310\\lib\\site-packages)\n",
      "WARNING: Ignoring invalid distribution -pencv-python-headless (c:\\users\\sksoh\\appdata\\local\\programs\\python\\python310\\lib\\site-packages)\n",
      "WARNING: Ignoring invalid distribution -rotobuf (c:\\users\\sksoh\\appdata\\local\\programs\\python\\python310\\lib\\site-packages)\n",
      "WARNING: Ignoring invalid distribution -pencv-python-headless (c:\\users\\sksoh\\appdata\\local\\programs\\python\\python310\\lib\\site-packages)\n",
      "    WARNING: Ignoring invalid distribution -rotobuf (c:\\users\\sksoh\\appdata\\local\\programs\\python\\python310\\lib\\site-packages)\n",
      "    WARNING: Ignoring invalid distribution -pencv-python-headless (c:\\users\\sksoh\\appdata\\local\\programs\\python\\python310\\lib\\site-packages)\n",
      "WARNING: Ignoring invalid distribution -rotobuf (c:\\users\\sksoh\\appdata\\local\\programs\\python\\python310\\lib\\site-packages)\n",
      "WARNING: Ignoring invalid distribution -pencv-python-headless (c:\\users\\sksoh\\appdata\\local\\programs\\python\\python310\\lib\\site-packages)\n",
      "WARNING: Ignoring invalid distribution -rotobuf (c:\\users\\sksoh\\appdata\\local\\programs\\python\\python310\\lib\\site-packages)\n",
      "WARNING: Ignoring invalid distribution -pencv-python-headless (c:\\users\\sksoh\\appdata\\local\\programs\\python\\python310\\lib\\site-packages)\n",
      "WARNING: Ignoring invalid distribution -rotobuf (c:\\users\\sksoh\\appdata\\local\\programs\\python\\python310\\lib\\site-packages)\n",
      "WARNING: Ignoring invalid distribution -pencv-python-headless (c:\\users\\sksoh\\appdata\\local\\programs\\python\\python310\\lib\\site-packages)\n",
      "WARNING: Ignoring invalid distribution -rotobuf (c:\\users\\sksoh\\appdata\\local\\programs\\python\\python310\\lib\\site-packages)\n",
      "WARNING: Ignoring invalid distribution -pencv-python-headless (c:\\users\\sksoh\\appdata\\local\\programs\\python\\python310\\lib\\site-packages)\n",
      "WARNING: Ignoring invalid distribution -rotobuf (c:\\users\\sksoh\\appdata\\local\\programs\\python\\python310\\lib\\site-packages)\n",
      "WARNING: Ignoring invalid distribution -pencv-python-headless (c:\\users\\sksoh\\appdata\\local\\programs\\python\\python310\\lib\\site-packages)\n",
      "\n",
      "[notice] A new release of pip is available: 23.0.1 -> 23.1.2\n",
      "[notice] To update, run: python.exe -m pip install --upgrade pip\n"
     ]
    },
    {
     "name": "stdout",
     "output_type": "stream",
     "text": [
      "\n",
      "  Downloading imbalanced_learn-0.10.1-py3-none-any.whl (226 kB)\n",
      "     -------------------------------------- 226.0/226.0 kB 2.0 MB/s eta 0:00:00\n",
      "Requirement already satisfied: threadpoolctl>=2.0.0 in c:\\users\\sksoh\\appdata\\local\\programs\\python\\python310\\lib\\site-packages (from imbalanced-learn) (3.1.0)\n",
      "Requirement already satisfied: scipy>=1.3.2 in c:\\users\\sksoh\\appdata\\local\\programs\\python\\python310\\lib\\site-packages (from imbalanced-learn) (1.8.1)\n",
      "Requirement already satisfied: scikit-learn>=1.0.2 in c:\\users\\sksoh\\appdata\\local\\programs\\python\\python310\\lib\\site-packages (from imbalanced-learn) (1.1.1)\n",
      "Requirement already satisfied: numpy>=1.17.3 in c:\\users\\sksoh\\appdata\\local\\programs\\python\\python310\\lib\\site-packages (from imbalanced-learn) (1.23.1)\n",
      "Collecting joblib>=1.1.1\n",
      "  Downloading joblib-1.2.0-py3-none-any.whl (297 kB)\n",
      "     -------------------------------------- 298.0/298.0 kB 2.3 MB/s eta 0:00:00\n",
      "Installing collected packages: joblib, imbalanced-learn\n",
      "  Attempting uninstall: joblib\n",
      "    Found existing installation: joblib 1.1.0\n",
      "    Uninstalling joblib-1.1.0:\n",
      "      Successfully uninstalled joblib-1.1.0\n",
      "Successfully installed imbalanced-learn-0.10.1 joblib-1.2.0\n"
     ]
    }
   ],
   "source": [
    "!pip install -U imbalanced-learn"
   ]
  },
  {
   "cell_type": "code",
   "execution_count": null,
   "metadata": {},
   "outputs": [],
   "source": []
  },
  {
   "cell_type": "code",
   "execution_count": 3,
   "metadata": {},
   "outputs": [],
   "source": [
    "from sklearn.tree import DecisionTreeClassifier\n",
    "from sklearn.model_selection import train_test_split\n",
    "from sklearn.metrics import accuracy_score\n",
    "import pandas as pd\n",
    "from sklearn.model_selection import KFold, cross_val_score\n",
    "from sklearn.metrics import confusion_matrix, accuracy_score\n",
    "import matplotlib.pyplot as plt\n",
    "from sklearn.model_selection import GridSearchCV\n",
    "from imblearn.over_sampling import SMOTE\n",
    "from sklearn.tree import plot_tree\n"
   ]
  },
  {
   "cell_type": "code",
   "execution_count": 12,
   "metadata": {},
   "outputs": [
    {
     "data": {
      "text/plain": [
       "Index(['no_of_adults', 'no_of_weekend_nights', 'no_of_week_nights',\n",
       "       'lead_time', 'arrival_year', 'arrival_month', 'arrival_date',\n",
       "       'repeated_guest', 'no_of_previous_cancellations',\n",
       "       'no_of_previous_bookings_not_canceled', 'avg_price_per_room',\n",
       "       'no_of_special_requests', 'booking_status', 'nights', 'lead_x_nights',\n",
       "       'market_segment_type_Aviation', 'market_segment_type_Complementary',\n",
       "       'market_segment_type_Corporate', 'market_segment_type_Offline',\n",
       "       'market_segment_type_Online', 'room_type_reserved_Room_Type 1',\n",
       "       'room_type_reserved_Room_Type 2', 'room_type_reserved_Room_Type 3',\n",
       "       'room_type_reserved_Room_Type 4', 'room_type_reserved_Room_Type 5',\n",
       "       'room_type_reserved_Room_Type 6', 'room_type_reserved_Room_Type 7',\n",
       "       'type_of_meal_plan_Meal Plan 1', 'type_of_meal_plan_Meal Plan 2',\n",
       "       'type_of_meal_plan_Meal Plan 3', 'type_of_meal_plan_Not Selected',\n",
       "       'required_car_parking_space_0', 'required_car_parking_space_1'],\n",
       "      dtype='object')"
      ]
     },
     "execution_count": 12,
     "metadata": {},
     "output_type": "execute_result"
    }
   ],
   "source": [
    "\n",
    "train = pd.read_csv('kaggle_2.csv')\n",
    "train.keys()"
   ]
  },
  {
   "cell_type": "code",
   "execution_count": 16,
   "metadata": {},
   "outputs": [
    {
     "name": "stdout",
     "output_type": "stream",
     "text": [
      "   no_of_adults  no_of_weekend_nights  no_of_week_nights  lead_time  \\\n",
      "0      0.076830              0.217818           0.570835   1.374933   \n",
      "1      0.076830              0.217818           0.570835  -0.065390   \n",
      "2      0.076830              0.217818           1.286130  -0.077294   \n",
      "3      0.076830              1.369297          -1.575050  -0.279653   \n",
      "4      1.617203             -0.933661           1.286130   1.386836   \n",
      "\n",
      "   arrival_year  arrival_month  arrival_date  repeated_guest  \\\n",
      "0          2018       0.188557      1.535502               0   \n",
      "1          2018      -1.444582      0.962366               0   \n",
      "2          2018      -1.117954     -1.100922               0   \n",
      "3          2017       0.841813     -1.330176               0   \n",
      "4          2018       1.168441     -1.674057               0   \n",
      "\n",
      "   no_of_previous_cancellations  no_of_previous_bookings_not_canceled  ...  \\\n",
      "0                     -0.063221                             -0.085991  ...   \n",
      "1                     -0.063221                             -0.085991  ...   \n",
      "2                     -0.063221                             -0.085991  ...   \n",
      "3                     -0.063221                             -0.085991  ...   \n",
      "4                     -0.063221                             -0.085991  ...   \n",
      "\n",
      "   room_type_reserved_Room_Type 4  room_type_reserved_Room_Type 5  \\\n",
      "0                               0                               0   \n",
      "1                               0                               0   \n",
      "2                               1                               0   \n",
      "3                               0                               0   \n",
      "4                               0                               0   \n",
      "\n",
      "   room_type_reserved_Room_Type 6  room_type_reserved_Room_Type 7  \\\n",
      "0                               0                               0   \n",
      "1                               0                               0   \n",
      "2                               0                               0   \n",
      "3                               0                               0   \n",
      "4                               0                               0   \n",
      "\n",
      "   type_of_meal_plan_Meal Plan 1  type_of_meal_plan_Meal Plan 2  \\\n",
      "0                              1                              0   \n",
      "1                              1                              0   \n",
      "2                              1                              0   \n",
      "3                              1                              0   \n",
      "4                              1                              0   \n",
      "\n",
      "   type_of_meal_plan_Meal Plan 3  type_of_meal_plan_Not Selected  \\\n",
      "0                              0                               0   \n",
      "1                              0                               0   \n",
      "2                              0                               0   \n",
      "3                              0                               0   \n",
      "4                              0                               0   \n",
      "\n",
      "   required_car_parking_space_0  required_car_parking_space_1  \n",
      "0                             1                             0  \n",
      "1                             1                             0  \n",
      "2                             1                             0  \n",
      "3                             1                             0  \n",
      "4                             1                             0  \n",
      "\n",
      "[5 rows x 33 columns]\n"
     ]
    }
   ],
   "source": [
    "train = pd.read_csv('kaggle_2.csv')\n",
    "train.keys()\n",
    "print(train.head())"
   ]
  },
  {
   "cell_type": "code",
   "execution_count": null,
   "metadata": {},
   "outputs": [],
   "source": []
  },
  {
   "cell_type": "code",
   "execution_count": 18,
   "metadata": {},
   "outputs": [
    {
     "name": "stdout",
     "output_type": "stream",
     "text": [
      "Cross Validation Scores:  [0.85866561 0.86221871 0.8621643  0.86018957 0.8542654  0.87045814\n",
      " 0.84557662 0.86058452 0.8657188  0.86650869]\n",
      "Average CV Score:  0.8606350361640251\n",
      "Number of CV Scores used in Average:  10\n"
     ]
    }
   ],
   "source": [
    "'''\n",
    "feature_names = ['no_of_adults', 'no_of_children',\n",
    "'no_of_weekend_nights',\n",
    "                 'no_of_week_nights', 'required_car_parking_space',\n",
    "                 'lead_time', 'arrival_year', 'arrival_month',\n",
    "                 'arrival_date', 'repeated_guest',\n",
    "                 'no_of_previous_cancellations', 'no_of_previous_bookings_not_canceled',\n",
    "                 'avg_price_per_room', 'no_of_special_requests',\n",
    "                 'meal_type_1', 'meal_type_2', 'meal_type_3', 'meal_type_4',\n",
    "                 'room_type_1', 'room_type_2', 'room_type_3', 'room_type_4',\n",
    "                 'room_type_5', 'room_type_6', 'room_type_7', 'Corporate',\n",
    "                 'Complementary', 'Online', 'Offline', 'Aviation']\n",
    "'''\n",
    "\n",
    "train = pd.read_csv('kaggle_2.csv')\n",
    "feature_names = ['no_of_adults', 'no_of_weekend_nights', 'no_of_week_nights',\n",
    "       'lead_time', \n",
    "       'repeated_guest', 'no_of_previous_cancellations',\n",
    "       'no_of_previous_bookings_not_canceled', 'avg_price_per_room',\n",
    "       'no_of_special_requests', 'nights', 'lead_x_nights',\n",
    "       'market_segment_type_Aviation', 'market_segment_type_Complementary',\n",
    "       'market_segment_type_Corporate', 'market_segment_type_Offline',\n",
    "       'market_segment_type_Online', 'room_type_reserved_Room_Type 1',\n",
    "       'room_type_reserved_Room_Type 2', 'room_type_reserved_Room_Type 3',\n",
    "       'room_type_reserved_Room_Type 4', 'room_type_reserved_Room_Type 5',\n",
    "       'room_type_reserved_Room_Type 6', 'room_type_reserved_Room_Type 7',\n",
    "       'type_of_meal_plan_Meal Plan 1', 'type_of_meal_plan_Meal Plan 2',\n",
    "       'type_of_meal_plan_Meal Plan 3', 'type_of_meal_plan_Not Selected',\n",
    "       'required_car_parking_space_0', 'required_car_parking_space_1']\n",
    "\n",
    "# 87 프로 피쳐\n",
    "# train = pd.read_csv('onehot_sample.csv')\n",
    "\n",
    "# feature_names = ['no_of_adults', 'no_of_children', 'no_of_weekend_nights',\n",
    "#                  'no_of_week_nights', 'required_car_parking_space',\n",
    "#                  'lead_time', 'arrival_year', 'arrival_month',\n",
    "#                  'arrival_date', 'repeated_guest',\n",
    "#                  'no_of_previous_cancellations', 'no_of_previous_bookings_not_canceled',\n",
    "#                  'avg_price_per_room', 'no_of_special_requests',\n",
    "#                  'meal_type_1', 'meal_type_2', 'meal_type_3', 'meal_type_4',\n",
    "#                  'room_type_1', 'room_type_2', 'room_type_3', 'room_type_4',\n",
    "#                  'room_type_5', 'room_type_6', 'room_type_7', 'Corporate',\n",
    "#                  'Complementary', 'Online', 'Offline', 'Aviation']\n",
    "# dt_model = DecisionTreeClassifier(max_depth = 10, min_samples_leaf = 2, min_samples_split = 2, criterion=\"gini\", max_features = 30)\n",
    "\n",
    "X = train[feature_names]\n",
    "y = train[\"booking_status\"]\n",
    "# smote = SMOTE(random_state = 42)\n",
    "# Decision Tree 학습/예측/평가\n",
    "X_train, X_test, y_train, y_test = train_test_split(X, y, test_size = 0.2, random_state = 42)\n",
    "# X_train_over, y_train_over = smote.fit_resample(X_train, y_train)\n",
    "\n",
    "# Decision Tree 학습/예측/평가\n",
    "dt_model = DecisionTreeClassifier(\n",
    "    max_depth=15, min_samples_leaf=6, min_samples_split=2, criterion=\"gini\")\n",
    "scores = cross_val_score(dt_model, X, y, cv = 10)\n",
    "print(\"Cross Validation Scores: \", scores)\n",
    "print(\"Average CV Score: \", scores.mean())\n",
    "print(\"Number of CV Scores used in Average: \", len(scores))"
   ]
  },
  {
   "cell_type": "code",
   "execution_count": 66,
   "metadata": {},
   "outputs": [
    {
     "name": "stdout",
     "output_type": "stream",
     "text": [
      "(20313, 44)\n",
      "(27434, 20)\n"
     ]
    }
   ],
   "source": [
    "print(X_train.shape)\n",
    "print(X_train_over.shape)"
   ]
  },
  {
   "cell_type": "code",
   "execution_count": null,
   "metadata": {},
   "outputs": [],
   "source": []
  },
  {
   "cell_type": "code",
   "execution_count": 7,
   "metadata": {},
   "outputs": [
    {
     "name": "stdout",
     "output_type": "stream",
     "text": [
      "Fitting 10 folds for each of 1600 candidates, totalling 16000 fits\n"
     ]
    },
    {
     "ename": "KeyboardInterrupt",
     "evalue": "",
     "output_type": "error",
     "traceback": [
      "\u001b[1;31m---------------------------------------------------------------------------\u001b[0m",
      "\u001b[1;31mKeyboardInterrupt\u001b[0m                         Traceback (most recent call last)",
      "\u001b[1;32mc:\\STUDY\\5학기\\Data-Mining\\model_2_tree.ipynb Cell 12\u001b[0m in \u001b[0;36m<cell line: 38>\u001b[1;34m()\u001b[0m\n\u001b[0;32m     <a href='vscode-notebook-cell:/c%3A/STUDY/5%ED%95%99%EA%B8%B0/Data-Mining/model_2_tree.ipynb#X11sZmlsZQ%3D%3D?line=28'>29</a>\u001b[0m \u001b[39m# params = {\u001b[39;00m\n\u001b[0;32m     <a href='vscode-notebook-cell:/c%3A/STUDY/5%ED%95%99%EA%B8%B0/Data-Mining/model_2_tree.ipynb#X11sZmlsZQ%3D%3D?line=29'>30</a>\u001b[0m \u001b[39m#     'max_leaf_nodes' : [25, 30, 35, 40, 45]\u001b[39;00m\n\u001b[0;32m     <a href='vscode-notebook-cell:/c%3A/STUDY/5%ED%95%99%EA%B8%B0/Data-Mining/model_2_tree.ipynb#X11sZmlsZQ%3D%3D?line=30'>31</a>\u001b[0m \u001b[39m# }\u001b[39;00m\n\u001b[0;32m     <a href='vscode-notebook-cell:/c%3A/STUDY/5%ED%95%99%EA%B8%B0/Data-Mining/model_2_tree.ipynb#X11sZmlsZQ%3D%3D?line=31'>32</a>\u001b[0m \n\u001b[0;32m     <a href='vscode-notebook-cell:/c%3A/STUDY/5%ED%95%99%EA%B8%B0/Data-Mining/model_2_tree.ipynb#X11sZmlsZQ%3D%3D?line=32'>33</a>\u001b[0m \u001b[39m# Instantiate the grid search model\u001b[39;00m\n\u001b[0;32m     <a href='vscode-notebook-cell:/c%3A/STUDY/5%ED%95%99%EA%B8%B0/Data-Mining/model_2_tree.ipynb#X11sZmlsZQ%3D%3D?line=33'>34</a>\u001b[0m grid_search \u001b[39m=\u001b[39m GridSearchCV(estimator\u001b[39m=\u001b[39mdt_model,\n\u001b[0;32m     <a href='vscode-notebook-cell:/c%3A/STUDY/5%ED%95%99%EA%B8%B0/Data-Mining/model_2_tree.ipynb#X11sZmlsZQ%3D%3D?line=34'>35</a>\u001b[0m                            param_grid\u001b[39m=\u001b[39mparams,\n\u001b[0;32m     <a href='vscode-notebook-cell:/c%3A/STUDY/5%ED%95%99%EA%B8%B0/Data-Mining/model_2_tree.ipynb#X11sZmlsZQ%3D%3D?line=35'>36</a>\u001b[0m                            cv\u001b[39m=\u001b[39m\u001b[39m10\u001b[39m, n_jobs\u001b[39m=\u001b[39m\u001b[39m-\u001b[39m\u001b[39m1\u001b[39m, verbose\u001b[39m=\u001b[39m\u001b[39m1\u001b[39m, scoring\u001b[39m=\u001b[39m\u001b[39m\"\u001b[39m\u001b[39maccuracy\u001b[39m\u001b[39m\"\u001b[39m)\n\u001b[1;32m---> <a href='vscode-notebook-cell:/c%3A/STUDY/5%ED%95%99%EA%B8%B0/Data-Mining/model_2_tree.ipynb#X11sZmlsZQ%3D%3D?line=37'>38</a>\u001b[0m grid_search\u001b[39m.\u001b[39;49mfit(X_train, y_train)\n\u001b[0;32m     <a href='vscode-notebook-cell:/c%3A/STUDY/5%ED%95%99%EA%B8%B0/Data-Mining/model_2_tree.ipynb#X11sZmlsZQ%3D%3D?line=38'>39</a>\u001b[0m score_df \u001b[39m=\u001b[39m pd\u001b[39m.\u001b[39mDataFrame(grid_search\u001b[39m.\u001b[39mcv_results_)\n\u001b[0;32m     <a href='vscode-notebook-cell:/c%3A/STUDY/5%ED%95%99%EA%B8%B0/Data-Mining/model_2_tree.ipynb#X11sZmlsZQ%3D%3D?line=39'>40</a>\u001b[0m \u001b[39m# score_df.to_csv('dt_model_grid_search.csv')\u001b[39;00m\n",
      "File \u001b[1;32mc:\\Users\\user\\AppData\\Local\\Programs\\Python\\Python310\\lib\\site-packages\\sklearn\\model_selection\\_search.py:891\u001b[0m, in \u001b[0;36mBaseSearchCV.fit\u001b[1;34m(self, X, y, groups, **fit_params)\u001b[0m\n\u001b[0;32m    885\u001b[0m     results \u001b[39m=\u001b[39m \u001b[39mself\u001b[39m\u001b[39m.\u001b[39m_format_results(\n\u001b[0;32m    886\u001b[0m         all_candidate_params, n_splits, all_out, all_more_results\n\u001b[0;32m    887\u001b[0m     )\n\u001b[0;32m    889\u001b[0m     \u001b[39mreturn\u001b[39;00m results\n\u001b[1;32m--> 891\u001b[0m \u001b[39mself\u001b[39;49m\u001b[39m.\u001b[39;49m_run_search(evaluate_candidates)\n\u001b[0;32m    893\u001b[0m \u001b[39m# multimetric is determined here because in the case of a callable\u001b[39;00m\n\u001b[0;32m    894\u001b[0m \u001b[39m# self.scoring the return type is only known after calling\u001b[39;00m\n\u001b[0;32m    895\u001b[0m first_test_score \u001b[39m=\u001b[39m all_out[\u001b[39m0\u001b[39m][\u001b[39m\"\u001b[39m\u001b[39mtest_scores\u001b[39m\u001b[39m\"\u001b[39m]\n",
      "File \u001b[1;32mc:\\Users\\user\\AppData\\Local\\Programs\\Python\\Python310\\lib\\site-packages\\sklearn\\model_selection\\_search.py:1392\u001b[0m, in \u001b[0;36mGridSearchCV._run_search\u001b[1;34m(self, evaluate_candidates)\u001b[0m\n\u001b[0;32m   1390\u001b[0m \u001b[39mdef\u001b[39;00m \u001b[39m_run_search\u001b[39m(\u001b[39mself\u001b[39m, evaluate_candidates):\n\u001b[0;32m   1391\u001b[0m     \u001b[39m\"\"\"Search all candidates in param_grid\"\"\"\u001b[39;00m\n\u001b[1;32m-> 1392\u001b[0m     evaluate_candidates(ParameterGrid(\u001b[39mself\u001b[39;49m\u001b[39m.\u001b[39;49mparam_grid))\n",
      "File \u001b[1;32mc:\\Users\\user\\AppData\\Local\\Programs\\Python\\Python310\\lib\\site-packages\\sklearn\\model_selection\\_search.py:838\u001b[0m, in \u001b[0;36mBaseSearchCV.fit.<locals>.evaluate_candidates\u001b[1;34m(candidate_params, cv, more_results)\u001b[0m\n\u001b[0;32m    830\u001b[0m \u001b[39mif\u001b[39;00m \u001b[39mself\u001b[39m\u001b[39m.\u001b[39mverbose \u001b[39m>\u001b[39m \u001b[39m0\u001b[39m:\n\u001b[0;32m    831\u001b[0m     \u001b[39mprint\u001b[39m(\n\u001b[0;32m    832\u001b[0m         \u001b[39m\"\u001b[39m\u001b[39mFitting \u001b[39m\u001b[39m{0}\u001b[39;00m\u001b[39m folds for each of \u001b[39m\u001b[39m{1}\u001b[39;00m\u001b[39m candidates,\u001b[39m\u001b[39m\"\u001b[39m\n\u001b[0;32m    833\u001b[0m         \u001b[39m\"\u001b[39m\u001b[39m totalling \u001b[39m\u001b[39m{2}\u001b[39;00m\u001b[39m fits\u001b[39m\u001b[39m\"\u001b[39m\u001b[39m.\u001b[39mformat(\n\u001b[0;32m    834\u001b[0m             n_splits, n_candidates, n_candidates \u001b[39m*\u001b[39m n_splits\n\u001b[0;32m    835\u001b[0m         )\n\u001b[0;32m    836\u001b[0m     )\n\u001b[1;32m--> 838\u001b[0m out \u001b[39m=\u001b[39m parallel(\n\u001b[0;32m    839\u001b[0m     delayed(_fit_and_score)(\n\u001b[0;32m    840\u001b[0m         clone(base_estimator),\n\u001b[0;32m    841\u001b[0m         X,\n\u001b[0;32m    842\u001b[0m         y,\n\u001b[0;32m    843\u001b[0m         train\u001b[39m=\u001b[39;49mtrain,\n\u001b[0;32m    844\u001b[0m         test\u001b[39m=\u001b[39;49mtest,\n\u001b[0;32m    845\u001b[0m         parameters\u001b[39m=\u001b[39;49mparameters,\n\u001b[0;32m    846\u001b[0m         split_progress\u001b[39m=\u001b[39;49m(split_idx, n_splits),\n\u001b[0;32m    847\u001b[0m         candidate_progress\u001b[39m=\u001b[39;49m(cand_idx, n_candidates),\n\u001b[0;32m    848\u001b[0m         \u001b[39m*\u001b[39;49m\u001b[39m*\u001b[39;49mfit_and_score_kwargs,\n\u001b[0;32m    849\u001b[0m     )\n\u001b[0;32m    850\u001b[0m     \u001b[39mfor\u001b[39;49;00m (cand_idx, parameters), (split_idx, (train, test)) \u001b[39min\u001b[39;49;00m product(\n\u001b[0;32m    851\u001b[0m         \u001b[39menumerate\u001b[39;49m(candidate_params), \u001b[39menumerate\u001b[39;49m(cv\u001b[39m.\u001b[39;49msplit(X, y, groups))\n\u001b[0;32m    852\u001b[0m     )\n\u001b[0;32m    853\u001b[0m )\n\u001b[0;32m    855\u001b[0m \u001b[39mif\u001b[39;00m \u001b[39mlen\u001b[39m(out) \u001b[39m<\u001b[39m \u001b[39m1\u001b[39m:\n\u001b[0;32m    856\u001b[0m     \u001b[39mraise\u001b[39;00m \u001b[39mValueError\u001b[39;00m(\n\u001b[0;32m    857\u001b[0m         \u001b[39m\"\u001b[39m\u001b[39mNo fits were performed. \u001b[39m\u001b[39m\"\u001b[39m\n\u001b[0;32m    858\u001b[0m         \u001b[39m\"\u001b[39m\u001b[39mWas the CV iterator empty? \u001b[39m\u001b[39m\"\u001b[39m\n\u001b[0;32m    859\u001b[0m         \u001b[39m\"\u001b[39m\u001b[39mWere there no candidates?\u001b[39m\u001b[39m\"\u001b[39m\n\u001b[0;32m    860\u001b[0m     )\n",
      "File \u001b[1;32mc:\\Users\\user\\AppData\\Local\\Programs\\Python\\Python310\\lib\\site-packages\\joblib\\parallel.py:1098\u001b[0m, in \u001b[0;36mParallel.__call__\u001b[1;34m(self, iterable)\u001b[0m\n\u001b[0;32m   1095\u001b[0m     \u001b[39mself\u001b[39m\u001b[39m.\u001b[39m_iterating \u001b[39m=\u001b[39m \u001b[39mFalse\u001b[39;00m\n\u001b[0;32m   1097\u001b[0m \u001b[39mwith\u001b[39;00m \u001b[39mself\u001b[39m\u001b[39m.\u001b[39m_backend\u001b[39m.\u001b[39mretrieval_context():\n\u001b[1;32m-> 1098\u001b[0m     \u001b[39mself\u001b[39;49m\u001b[39m.\u001b[39;49mretrieve()\n\u001b[0;32m   1099\u001b[0m \u001b[39m# Make sure that we get a last message telling us we are done\u001b[39;00m\n\u001b[0;32m   1100\u001b[0m elapsed_time \u001b[39m=\u001b[39m time\u001b[39m.\u001b[39mtime() \u001b[39m-\u001b[39m \u001b[39mself\u001b[39m\u001b[39m.\u001b[39m_start_time\n",
      "File \u001b[1;32mc:\\Users\\user\\AppData\\Local\\Programs\\Python\\Python310\\lib\\site-packages\\joblib\\parallel.py:975\u001b[0m, in \u001b[0;36mParallel.retrieve\u001b[1;34m(self)\u001b[0m\n\u001b[0;32m    973\u001b[0m \u001b[39mtry\u001b[39;00m:\n\u001b[0;32m    974\u001b[0m     \u001b[39mif\u001b[39;00m \u001b[39mgetattr\u001b[39m(\u001b[39mself\u001b[39m\u001b[39m.\u001b[39m_backend, \u001b[39m'\u001b[39m\u001b[39msupports_timeout\u001b[39m\u001b[39m'\u001b[39m, \u001b[39mFalse\u001b[39;00m):\n\u001b[1;32m--> 975\u001b[0m         \u001b[39mself\u001b[39m\u001b[39m.\u001b[39m_output\u001b[39m.\u001b[39mextend(job\u001b[39m.\u001b[39;49mget(timeout\u001b[39m=\u001b[39;49m\u001b[39mself\u001b[39;49m\u001b[39m.\u001b[39;49mtimeout))\n\u001b[0;32m    976\u001b[0m     \u001b[39melse\u001b[39;00m:\n\u001b[0;32m    977\u001b[0m         \u001b[39mself\u001b[39m\u001b[39m.\u001b[39m_output\u001b[39m.\u001b[39mextend(job\u001b[39m.\u001b[39mget())\n",
      "File \u001b[1;32mc:\\Users\\user\\AppData\\Local\\Programs\\Python\\Python310\\lib\\site-packages\\joblib\\_parallel_backends.py:567\u001b[0m, in \u001b[0;36mLokyBackend.wrap_future_result\u001b[1;34m(future, timeout)\u001b[0m\n\u001b[0;32m    564\u001b[0m \u001b[39m\"\"\"Wrapper for Future.result to implement the same behaviour as\u001b[39;00m\n\u001b[0;32m    565\u001b[0m \u001b[39mAsyncResults.get from multiprocessing.\"\"\"\u001b[39;00m\n\u001b[0;32m    566\u001b[0m \u001b[39mtry\u001b[39;00m:\n\u001b[1;32m--> 567\u001b[0m     \u001b[39mreturn\u001b[39;00m future\u001b[39m.\u001b[39;49mresult(timeout\u001b[39m=\u001b[39;49mtimeout)\n\u001b[0;32m    568\u001b[0m \u001b[39mexcept\u001b[39;00m CfTimeoutError \u001b[39mas\u001b[39;00m e:\n\u001b[0;32m    569\u001b[0m     \u001b[39mraise\u001b[39;00m \u001b[39mTimeoutError\u001b[39;00m \u001b[39mfrom\u001b[39;00m \u001b[39me\u001b[39;00m\n",
      "File \u001b[1;32mc:\\Users\\user\\AppData\\Local\\Programs\\Python\\Python310\\lib\\concurrent\\futures\\_base.py:441\u001b[0m, in \u001b[0;36mFuture.result\u001b[1;34m(self, timeout)\u001b[0m\n\u001b[0;32m    438\u001b[0m \u001b[39melif\u001b[39;00m \u001b[39mself\u001b[39m\u001b[39m.\u001b[39m_state \u001b[39m==\u001b[39m FINISHED:\n\u001b[0;32m    439\u001b[0m     \u001b[39mreturn\u001b[39;00m \u001b[39mself\u001b[39m\u001b[39m.\u001b[39m__get_result()\n\u001b[1;32m--> 441\u001b[0m \u001b[39mself\u001b[39;49m\u001b[39m.\u001b[39;49m_condition\u001b[39m.\u001b[39;49mwait(timeout)\n\u001b[0;32m    443\u001b[0m \u001b[39mif\u001b[39;00m \u001b[39mself\u001b[39m\u001b[39m.\u001b[39m_state \u001b[39min\u001b[39;00m [CANCELLED, CANCELLED_AND_NOTIFIED]:\n\u001b[0;32m    444\u001b[0m     \u001b[39mraise\u001b[39;00m CancelledError()\n",
      "File \u001b[1;32mc:\\Users\\user\\AppData\\Local\\Programs\\Python\\Python310\\lib\\threading.py:320\u001b[0m, in \u001b[0;36mCondition.wait\u001b[1;34m(self, timeout)\u001b[0m\n\u001b[0;32m    318\u001b[0m \u001b[39mtry\u001b[39;00m:    \u001b[39m# restore state no matter what (e.g., KeyboardInterrupt)\u001b[39;00m\n\u001b[0;32m    319\u001b[0m     \u001b[39mif\u001b[39;00m timeout \u001b[39mis\u001b[39;00m \u001b[39mNone\u001b[39;00m:\n\u001b[1;32m--> 320\u001b[0m         waiter\u001b[39m.\u001b[39;49macquire()\n\u001b[0;32m    321\u001b[0m         gotit \u001b[39m=\u001b[39m \u001b[39mTrue\u001b[39;00m\n\u001b[0;32m    322\u001b[0m     \u001b[39melse\u001b[39;00m:\n",
      "\u001b[1;31mKeyboardInterrupt\u001b[0m: "
     ]
    }
   ],
   "source": [
    "def get_dt_graph(dt_classifier):\n",
    "    fig = plt.figure(figsize=(25, 20))\n",
    "    _ = dt_model.plot_tree(dt_classifier,\n",
    "                       feature_names=X.columns,\n",
    "                       class_names=['No Disease', \"Disease\"],\n",
    "                       filled=True)\n",
    "\n",
    "\n",
    "\n",
    "\n",
    "\n",
    "params = {\n",
    "    'max_depth' : [8, 10, 15, 20], \n",
    "    'min_samples_leaf' : [2, 4, 6, 8], \n",
    "    'min_samples_split' : [2, 4, 6, 8],\n",
    "    'max_features' : [25, 30, 25, 40, 'sqrt'],\n",
    "    'max_leaf_nodes' : [15, 20, 25, 30, 35]\n",
    "}\n",
    "\n",
    "# params = {\n",
    "#     'max_leaf_nodes' : [25, 30, 35, 40, 45]\n",
    "# }\n",
    "\n",
    "# Instantiate the grid search model\n",
    "grid_search = GridSearchCV(estimator=dt_model,\n",
    "                           param_grid=params,\n",
    "                           cv=10, n_jobs=-1, verbose=1, scoring=\"accuracy\")\n",
    "\n",
    "grid_search.fit(X_train, y_train)\n",
    "score_df = pd.DataFrame(grid_search.cv_results_)\n",
    "# score_df.to_csv('dt_model_grid_search.csv')\n",
    "score_df.nlargest(5, \"mean_test_score\")\n"
   ]
  },
  {
   "cell_type": "code",
   "execution_count": 5,
   "metadata": {},
   "outputs": [
    {
     "data": {
      "text/plain": [
       "DecisionTreeClassifier(max_depth=15, max_features=40, min_samples_leaf=6)"
      ]
     },
     "execution_count": 5,
     "metadata": {},
     "output_type": "execute_result"
    }
   ],
   "source": [
    "\n",
    "dt_model.fit(X_train, y_train)\n"
   ]
  },
  {
   "cell_type": "code",
   "execution_count": 77,
   "metadata": {},
   "outputs": [
    {
     "ename": "KeyboardInterrupt",
     "evalue": "",
     "output_type": "error",
     "traceback": [
      "\u001b[1;31m---------------------------------------------------------------------------\u001b[0m",
      "\u001b[1;31mKeyboardInterrupt\u001b[0m                         Traceback (most recent call last)",
      "\u001b[1;32mc:\\STUDY\\5학기\\Data-Mining\\model_2_tree.ipynb Cell 14\u001b[0m in \u001b[0;36m<cell line: 2>\u001b[1;34m()\u001b[0m\n\u001b[0;32m      <a href='vscode-notebook-cell:/c%3A/STUDY/5%ED%95%99%EA%B8%B0/Data-Mining/model_2_tree.ipynb#X13sZmlsZQ%3D%3D?line=0'>1</a>\u001b[0m plt\u001b[39m.\u001b[39mfigure(figsize\u001b[39m=\u001b[39m(\u001b[39m20\u001b[39m, \u001b[39m15\u001b[39m))\n\u001b[1;32m----> <a href='vscode-notebook-cell:/c%3A/STUDY/5%ED%95%99%EA%B8%B0/Data-Mining/model_2_tree.ipynb#X13sZmlsZQ%3D%3D?line=1'>2</a>\u001b[0m plot_tree(dt_model, filled\u001b[39m=\u001b[39;49m\u001b[39mTrue\u001b[39;49;00m, feature_names\u001b[39m=\u001b[39;49mX_train\u001b[39m.\u001b[39;49mkeys())\n\u001b[0;32m      <a href='vscode-notebook-cell:/c%3A/STUDY/5%ED%95%99%EA%B8%B0/Data-Mining/model_2_tree.ipynb#X13sZmlsZQ%3D%3D?line=2'>3</a>\u001b[0m plt\u001b[39m.\u001b[39mshow()\n",
      "File \u001b[1;32mc:\\Users\\user\\AppData\\Local\\Programs\\Python\\Python310\\lib\\site-packages\\sklearn\\tree\\_export.py:195\u001b[0m, in \u001b[0;36mplot_tree\u001b[1;34m(decision_tree, max_depth, feature_names, class_names, label, filled, impurity, node_ids, proportion, rounded, precision, ax, fontsize)\u001b[0m\n\u001b[0;32m    180\u001b[0m check_is_fitted(decision_tree)\n\u001b[0;32m    182\u001b[0m exporter \u001b[39m=\u001b[39m _MPLTreeExporter(\n\u001b[0;32m    183\u001b[0m     max_depth\u001b[39m=\u001b[39mmax_depth,\n\u001b[0;32m    184\u001b[0m     feature_names\u001b[39m=\u001b[39mfeature_names,\n\u001b[1;32m   (...)\u001b[0m\n\u001b[0;32m    193\u001b[0m     fontsize\u001b[39m=\u001b[39mfontsize,\n\u001b[0;32m    194\u001b[0m )\n\u001b[1;32m--> 195\u001b[0m \u001b[39mreturn\u001b[39;00m exporter\u001b[39m.\u001b[39;49mexport(decision_tree, ax\u001b[39m=\u001b[39;49max)\n",
      "File \u001b[1;32mc:\\Users\\user\\AppData\\Local\\Programs\\Python\\Python310\\lib\\site-packages\\sklearn\\tree\\_export.py:677\u001b[0m, in \u001b[0;36m_MPLTreeExporter.export\u001b[1;34m(self, decision_tree, ax)\u001b[0m\n\u001b[0;32m    674\u001b[0m renderer \u001b[39m=\u001b[39m ax\u001b[39m.\u001b[39mfigure\u001b[39m.\u001b[39mcanvas\u001b[39m.\u001b[39mget_renderer()\n\u001b[0;32m    676\u001b[0m \u001b[39mfor\u001b[39;00m ann \u001b[39min\u001b[39;00m anns:\n\u001b[1;32m--> 677\u001b[0m     ann\u001b[39m.\u001b[39;49mupdate_bbox_position_size(renderer)\n\u001b[0;32m    679\u001b[0m \u001b[39mif\u001b[39;00m \u001b[39mself\u001b[39m\u001b[39m.\u001b[39mfontsize \u001b[39mis\u001b[39;00m \u001b[39mNone\u001b[39;00m:\n\u001b[0;32m    680\u001b[0m     \u001b[39m# get figure to data transform\u001b[39;00m\n\u001b[0;32m    681\u001b[0m     \u001b[39m# adjust fontsize to avoid overlap\u001b[39;00m\n\u001b[0;32m    682\u001b[0m     \u001b[39m# get max box width and height\u001b[39;00m\n\u001b[0;32m    683\u001b[0m     extents \u001b[39m=\u001b[39m [ann\u001b[39m.\u001b[39mget_bbox_patch()\u001b[39m.\u001b[39mget_window_extent() \u001b[39mfor\u001b[39;00m ann \u001b[39min\u001b[39;00m anns]\n",
      "File \u001b[1;32mc:\\Users\\user\\AppData\\Local\\Programs\\Python\\Python310\\lib\\site-packages\\matplotlib\\text.py:508\u001b[0m, in \u001b[0;36mText.update_bbox_position_size\u001b[1;34m(self, renderer)\u001b[0m\n\u001b[0;32m    505\u001b[0m posy \u001b[39m=\u001b[39m \u001b[39mfloat\u001b[39m(\u001b[39mself\u001b[39m\u001b[39m.\u001b[39mconvert_yunits(\u001b[39mself\u001b[39m\u001b[39m.\u001b[39m_y))\n\u001b[0;32m    506\u001b[0m posx, posy \u001b[39m=\u001b[39m \u001b[39mself\u001b[39m\u001b[39m.\u001b[39mget_transform()\u001b[39m.\u001b[39mtransform((posx, posy))\n\u001b[1;32m--> 508\u001b[0m x_box, y_box, w_box, h_box \u001b[39m=\u001b[39m _get_textbox(\u001b[39mself\u001b[39;49m, renderer)\n\u001b[0;32m    509\u001b[0m \u001b[39mself\u001b[39m\u001b[39m.\u001b[39m_bbox_patch\u001b[39m.\u001b[39mset_bounds(\u001b[39m0.\u001b[39m, \u001b[39m0.\u001b[39m, w_box, h_box)\n\u001b[0;32m    510\u001b[0m \u001b[39mself\u001b[39m\u001b[39m.\u001b[39m_bbox_patch\u001b[39m.\u001b[39mset_transform(\n\u001b[0;32m    511\u001b[0m     Affine2D()\n\u001b[0;32m    512\u001b[0m     \u001b[39m.\u001b[39mrotate_deg(\u001b[39mself\u001b[39m\u001b[39m.\u001b[39mget_rotation())\n\u001b[0;32m    513\u001b[0m     \u001b[39m.\u001b[39mtranslate(posx \u001b[39m+\u001b[39m x_box, posy \u001b[39m+\u001b[39m y_box))\n",
      "File \u001b[1;32mc:\\Users\\user\\AppData\\Local\\Programs\\Python\\Python310\\lib\\site-packages\\matplotlib\\text.py:71\u001b[0m, in \u001b[0;36m_get_textbox\u001b[1;34m(text, renderer)\u001b[0m\n\u001b[0;32m     68\u001b[0m theta \u001b[39m=\u001b[39m np\u001b[39m.\u001b[39mdeg2rad(text\u001b[39m.\u001b[39mget_rotation())\n\u001b[0;32m     69\u001b[0m tr \u001b[39m=\u001b[39m Affine2D()\u001b[39m.\u001b[39mrotate(\u001b[39m-\u001b[39mtheta)\n\u001b[1;32m---> 71\u001b[0m _, parts, d \u001b[39m=\u001b[39m text\u001b[39m.\u001b[39;49m_get_layout(renderer)\n\u001b[0;32m     73\u001b[0m \u001b[39mfor\u001b[39;00m t, wh, x, y \u001b[39min\u001b[39;00m parts:\n\u001b[0;32m     74\u001b[0m     w, h \u001b[39m=\u001b[39m wh\n",
      "File \u001b[1;32mc:\\Users\\user\\AppData\\Local\\Programs\\Python\\Python310\\lib\\site-packages\\matplotlib\\text.py:317\u001b[0m, in \u001b[0;36mText._get_layout\u001b[1;34m(self, renderer)\u001b[0m\n\u001b[0;32m    315\u001b[0m clean_line, ismath \u001b[39m=\u001b[39m \u001b[39mself\u001b[39m\u001b[39m.\u001b[39m_preprocess_math(line)\n\u001b[0;32m    316\u001b[0m \u001b[39mif\u001b[39;00m clean_line:\n\u001b[1;32m--> 317\u001b[0m     w, h, d \u001b[39m=\u001b[39m renderer\u001b[39m.\u001b[39;49mget_text_width_height_descent(\n\u001b[0;32m    318\u001b[0m         clean_line, \u001b[39mself\u001b[39;49m\u001b[39m.\u001b[39;49m_fontproperties, ismath\u001b[39m=\u001b[39;49mismath)\n\u001b[0;32m    319\u001b[0m \u001b[39melse\u001b[39;00m:\n\u001b[0;32m    320\u001b[0m     w \u001b[39m=\u001b[39m h \u001b[39m=\u001b[39m d \u001b[39m=\u001b[39m \u001b[39m0\u001b[39m\n",
      "File \u001b[1;32mc:\\Users\\user\\AppData\\Local\\Programs\\Python\\Python310\\lib\\site-packages\\matplotlib\\backends\\backend_agg.py:270\u001b[0m, in \u001b[0;36mRendererAgg.get_text_width_height_descent\u001b[1;34m(self, s, prop, ismath)\u001b[0m\n\u001b[0;32m    268\u001b[0m flags \u001b[39m=\u001b[39m get_hinting_flag()\n\u001b[0;32m    269\u001b[0m font \u001b[39m=\u001b[39m \u001b[39mself\u001b[39m\u001b[39m.\u001b[39m_get_agg_font(prop)\n\u001b[1;32m--> 270\u001b[0m font\u001b[39m.\u001b[39;49mset_text(s, \u001b[39m0.0\u001b[39;49m, flags\u001b[39m=\u001b[39;49mflags)\n\u001b[0;32m    271\u001b[0m w, h \u001b[39m=\u001b[39m font\u001b[39m.\u001b[39mget_width_height()  \u001b[39m# width and height of unrotated string\u001b[39;00m\n\u001b[0;32m    272\u001b[0m d \u001b[39m=\u001b[39m font\u001b[39m.\u001b[39mget_descent()\n",
      "\u001b[1;31mKeyboardInterrupt\u001b[0m: "
     ]
    }
   ],
   "source": [
    "plt.figure(figsize=(20, 15))\n",
    "plot_tree(dt_model, filled=True, feature_names=X_train.keys())\n",
    "plt.show()\n"
   ]
  },
  {
   "cell_type": "code",
   "execution_count": 19,
   "metadata": {},
   "outputs": [
    {
     "ename": "NotFittedError",
     "evalue": "This DecisionTreeClassifier instance is not fitted yet. Call 'fit' with appropriate arguments before using this estimator.",
     "output_type": "error",
     "traceback": [
      "\u001b[1;31m---------------------------------------------------------------------------\u001b[0m",
      "\u001b[1;31mNotFittedError\u001b[0m                            Traceback (most recent call last)",
      "\u001b[1;32mc:\\STUDY\\5학기\\Data-Mining\\model_2_tree.ipynb Cell 14\u001b[0m in \u001b[0;36m<cell line: 2>\u001b[1;34m()\u001b[0m\n\u001b[0;32m      <a href='vscode-notebook-cell:/c%3A/STUDY/5%ED%95%99%EA%B8%B0/Data-Mining/model_2_tree.ipynb#X14sZmlsZQ%3D%3D?line=0'>1</a>\u001b[0m plt\u001b[39m.\u001b[39mfigure(figsize\u001b[39m=\u001b[39m(\u001b[39m20\u001b[39m, \u001b[39m14\u001b[39m))\n\u001b[1;32m----> <a href='vscode-notebook-cell:/c%3A/STUDY/5%ED%95%99%EA%B8%B0/Data-Mining/model_2_tree.ipynb#X14sZmlsZQ%3D%3D?line=1'>2</a>\u001b[0m plot_tree(dt_model, max_depth\u001b[39m=\u001b[39;49m\u001b[39m2\u001b[39;49m, filled\u001b[39m=\u001b[39;49m\u001b[39mTrue\u001b[39;49;00m,\n\u001b[0;32m      <a href='vscode-notebook-cell:/c%3A/STUDY/5%ED%95%99%EA%B8%B0/Data-Mining/model_2_tree.ipynb#X14sZmlsZQ%3D%3D?line=2'>3</a>\u001b[0m           feature_names\u001b[39m=\u001b[39;49mX_train\u001b[39m.\u001b[39;49mkeys())\n\u001b[0;32m      <a href='vscode-notebook-cell:/c%3A/STUDY/5%ED%95%99%EA%B8%B0/Data-Mining/model_2_tree.ipynb#X14sZmlsZQ%3D%3D?line=3'>4</a>\u001b[0m plt\u001b[39m.\u001b[39mshow()\n",
      "File \u001b[1;32mc:\\Users\\user\\AppData\\Local\\Programs\\Python\\Python310\\lib\\site-packages\\sklearn\\tree\\_export.py:180\u001b[0m, in \u001b[0;36mplot_tree\u001b[1;34m(decision_tree, max_depth, feature_names, class_names, label, filled, impurity, node_ids, proportion, rounded, precision, ax, fontsize)\u001b[0m\n\u001b[0;32m     78\u001b[0m \u001b[39mdef\u001b[39;00m \u001b[39mplot_tree\u001b[39m(\n\u001b[0;32m     79\u001b[0m     decision_tree,\n\u001b[0;32m     80\u001b[0m     \u001b[39m*\u001b[39m,\n\u001b[1;32m   (...)\u001b[0m\n\u001b[0;32m     92\u001b[0m     fontsize\u001b[39m=\u001b[39m\u001b[39mNone\u001b[39;00m,\n\u001b[0;32m     93\u001b[0m ):\n\u001b[0;32m     94\u001b[0m     \u001b[39m\"\"\"Plot a decision tree.\u001b[39;00m\n\u001b[0;32m     95\u001b[0m \n\u001b[0;32m     96\u001b[0m \u001b[39m    The sample counts that are shown are weighted with any sample_weights that\u001b[39;00m\n\u001b[1;32m   (...)\u001b[0m\n\u001b[0;32m    177\u001b[0m \n\u001b[0;32m    178\u001b[0m \u001b[39m    \"\"\"\u001b[39;00m\n\u001b[1;32m--> 180\u001b[0m     check_is_fitted(decision_tree)\n\u001b[0;32m    182\u001b[0m     exporter \u001b[39m=\u001b[39m _MPLTreeExporter(\n\u001b[0;32m    183\u001b[0m         max_depth\u001b[39m=\u001b[39mmax_depth,\n\u001b[0;32m    184\u001b[0m         feature_names\u001b[39m=\u001b[39mfeature_names,\n\u001b[1;32m   (...)\u001b[0m\n\u001b[0;32m    193\u001b[0m         fontsize\u001b[39m=\u001b[39mfontsize,\n\u001b[0;32m    194\u001b[0m     )\n\u001b[0;32m    195\u001b[0m     \u001b[39mreturn\u001b[39;00m exporter\u001b[39m.\u001b[39mexport(decision_tree, ax\u001b[39m=\u001b[39max)\n",
      "File \u001b[1;32mc:\\Users\\user\\AppData\\Local\\Programs\\Python\\Python310\\lib\\site-packages\\sklearn\\utils\\validation.py:1222\u001b[0m, in \u001b[0;36mcheck_is_fitted\u001b[1;34m(estimator, attributes, msg, all_or_any)\u001b[0m\n\u001b[0;32m   1217\u001b[0m     fitted \u001b[39m=\u001b[39m [\n\u001b[0;32m   1218\u001b[0m         v \u001b[39mfor\u001b[39;00m v \u001b[39min\u001b[39;00m \u001b[39mvars\u001b[39m(estimator) \u001b[39mif\u001b[39;00m v\u001b[39m.\u001b[39mendswith(\u001b[39m\"\u001b[39m\u001b[39m_\u001b[39m\u001b[39m\"\u001b[39m) \u001b[39mand\u001b[39;00m \u001b[39mnot\u001b[39;00m v\u001b[39m.\u001b[39mstartswith(\u001b[39m\"\u001b[39m\u001b[39m__\u001b[39m\u001b[39m\"\u001b[39m)\n\u001b[0;32m   1219\u001b[0m     ]\n\u001b[0;32m   1221\u001b[0m \u001b[39mif\u001b[39;00m \u001b[39mnot\u001b[39;00m fitted:\n\u001b[1;32m-> 1222\u001b[0m     \u001b[39mraise\u001b[39;00m NotFittedError(msg \u001b[39m%\u001b[39m {\u001b[39m\"\u001b[39m\u001b[39mname\u001b[39m\u001b[39m\"\u001b[39m: \u001b[39mtype\u001b[39m(estimator)\u001b[39m.\u001b[39m\u001b[39m__name__\u001b[39m})\n",
      "\u001b[1;31mNotFittedError\u001b[0m: This DecisionTreeClassifier instance is not fitted yet. Call 'fit' with appropriate arguments before using this estimator."
     ]
    },
    {
     "data": {
      "text/plain": [
       "<Figure size 2000x1400 with 0 Axes>"
      ]
     },
     "metadata": {},
     "output_type": "display_data"
    }
   ],
   "source": [
    "plt.figure(figsize=(20, 14))\n",
    "plot_tree(dt_model, max_depth=2, filled=True,\n",
    "          feature_names=X_train.keys())\n",
    "plt.show()\n"
   ]
  },
  {
   "cell_type": "code",
   "execution_count": null,
   "metadata": {},
   "outputs": [],
   "source": []
  },
  {
   "cell_type": "code",
   "execution_count": 70,
   "metadata": {},
   "outputs": [
    {
     "name": "stdout",
     "output_type": "stream",
     "text": [
      "Feature Importances:\n",
      "[0.021 0.001 0.033 0.033 0.    0.001 0.147 0.118 0.007 0.011 0.01  0.004\n",
      " 0.    0.    0.    0.135 0.01  0.    0.    0.113 0.012 0.001 0.001 0.001\n",
      " 0.    0.002 0.004 0.009 0.008 0.014 0.031 0.082 0.103 0.078 0.001 0.\n",
      " 0.001 0.    0.    0.005 0.    0.    0.    0.   ]\n",
      "\n",
      "no_of_adults: 0.021\n",
      "no_of_children: 0.001\n",
      "no_of_weekend_nights: 0.033\n",
      "no_of_week_nights: 0.033\n",
      "no_of_previous_cancellations: 0.000\n",
      "no_of_previous_bookings_not_canceled: 0.001\n",
      "avg_price_per_room: 0.147\n",
      "no_of_special_requests: 0.118\n",
      "type_of_meal_plan__1: 0.007\n",
      "type_of_meal_plan__2: 0.011\n",
      "required_car_parking_space__1: 0.010\n",
      "room_type_reserved__1: 0.004\n",
      "room_type_reserved__2: 0.000\n",
      "room_type_reserved__3: 0.000\n",
      "room_type_reserved__4: 0.000\n",
      "market_segment_type__1: 0.135\n",
      "market_segment_type__2: 0.010\n",
      "market_segment_type__4: 0.000\n",
      "repeated_guest__1: 0.000\n",
      "avg_price_per_room/: 0.113\n",
      "lead_time__lead_time__2: 0.012\n",
      "lead_time__lead_time__3: 0.001\n",
      "lead_time__lead_time__4: 0.001\n",
      "lead_time__lead_time__5: 0.001\n",
      "lead_time__lead_time__6: 0.000\n",
      "lead_time__lead_time__7: 0.002\n",
      "lead_time__lead_time__8: 0.004\n",
      "lead_time__lead_time__9: 0.009\n",
      "lead_time__lead_time__10: 0.008\n",
      "lead_time__lead_time__11: 0.014\n",
      "lead_time__lead_time__12: 0.031\n",
      "lead_time__lead_time__13: 0.082\n",
      "lead_time__lead_time__14: 0.103\n",
      "lead_time__lead_time__15: 0.078\n",
      "avg_price_per_room__avg_price_per_room__2: 0.001\n",
      "avg_price_per_room__avg_price_per_room__3: 0.000\n",
      "avg_price_per_room__avg_price_per_room__4: 0.001\n",
      "avg_price_per_room__avg_price_per_room__5: 0.000\n",
      "avg_price_per_room__avg_price_per_room__6: 0.000\n",
      "avg_price_per_room__avg_price_per_room__7: 0.005\n",
      "avg_price_per_room__avg_price_per_room__8: 0.000\n",
      "avg_price_per_room__avg_price_per_room__9: 0.000\n",
      "avg_price_per_room__avg_price_per_room__10: 0.000\n",
      "avg_price_per_room__avg_price_per_room__11: 0.000\n"
     ]
    },
    {
     "data": {
      "text/plain": [
       "<AxesSubplot:>"
      ]
     },
     "execution_count": 70,
     "metadata": {},
     "output_type": "execute_result"
    },
    {
     "data": {
      "image/png": "[encoded data removed]",
      "text/plain": [
       "<Figure size 640x480 with 1 Axes>"
      ]
     },
     "metadata": {},
     "output_type": "display_data"
    }
   ],
   "source": [
    "import numpy as np\n",
    "import seaborn as sb\n",
    "\n",
    "# feature importance 추출\n",
    "print(\"Feature Importances:\\n{0}\\n\".format(\n",
    "    np.round(dt_model.feature_importances_, 3)))\n",
    "\n",
    "# feature 별 feature importance 매핑\n",
    "for name, value in zip(X_train.keys(), dt_model.feature_importances_):\n",
    "    print('{0}: {1:.3f}'.format(name, value))\n",
    "\n",
    "# feature importance 시각화\n",
    "sb.barplot(x=dt_model.feature_importances_, y=X_train.keys())\n"
   ]
  },
  {
   "cell_type": "code",
   "execution_count": 8,
   "metadata": {},
   "outputs": [
    {
     "name": "stdout",
     "output_type": "stream",
     "text": [
      "Accuracy: 0.85\n",
      "Train Accuracy : 0.8777630089105499\n",
      "Train Confusion Matrix:\n",
      "[[12761   925]\n",
      " [ 1558  5069]]\n",
      "--------------------------------------------------\n",
      "Test Accuracy : 0.8472140185075803\n",
      "Test Confusion Matrix:\n",
      "[[3100  328]\n",
      " [ 448 1203]]\n"
     ]
    }
   ],
   "source": [
    "def evaluate_model(dt_classifier):\n",
    "    print(\"Train Accuracy :\", accuracy_score(\n",
    "        y_train, dt_classifier.predict(X_train)))\n",
    "    print(\"Train Confusion Matrix:\")\n",
    "    print(confusion_matrix(y_train, dt_classifier.predict(X_train)))\n",
    "    print(\"-\"*50)\n",
    "    print(\"Test Accuracy :\", accuracy_score(\n",
    "        y_test, dt_classifier.predict(X_test)))\n",
    "    print(\"Test Confusion Matrix:\")\n",
    "    print(confusion_matrix(y_test, dt_classifier.predict(X_test)))\n",
    "\n",
    "y_pred = dt_model.predict(X_test)\n",
    "print('Accuracy: {:.2f}'.format(accuracy_score(y_test, y_pred)))\n",
    "evaluate_model(dt_model)"
   ]
  },
  {
   "cell_type": "code",
   "execution_count": 30,
   "metadata": {},
   "outputs": [],
   "source": [
    "from sklearn.preprocessing import OneHotEncoder\n",
    "\n",
    "real_test = pd.read_csv('test.csv')\n",
    "\n",
    "ohe = OneHotEncoder(sparse=False)\n",
    "# fit_transform은 train에만 사용하고 test에는 학습된 인코더에 fit만 해야한다\n",
    "train_cat = ohe.fit_transform(real_test[['type_of_meal_plan']])\n",
    "train_cat = pd.DataFrame(train_cat)\n",
    "real_test['meal_type_1'] = train_cat.loc[:, 0]\n",
    "real_test['meal_type_2'] = train_cat.loc[:, 1]\n",
    "real_test['meal_type_3'] = train_cat.loc[:, 2]\n",
    "real_test['meal_type_4'] = train_cat.loc[:, 3]\n",
    "\n",
    "ohe = OneHotEncoder(sparse=False)\n",
    "# fit_transform은 train에만 사용하고 test에는 학습된 인코더에 fit만 해야한다\n",
    "train_cat = ohe.fit_transform(real_test[['room_type_reserved']])\n",
    "train_cat = pd.DataFrame(train_cat)\n",
    "real_test['room_type_1'] = train_cat.loc[:, 0]\n",
    "real_test['room_type_2'] = train_cat.loc[:, 1]\n",
    "real_test['room_type_3'] = train_cat.loc[:, 2]\n",
    "real_test['room_type_4'] = train_cat.loc[:, 3]\n",
    "real_test['room_type_5'] = train_cat.loc[:, 4]\n",
    "real_test['room_type_6'] = train_cat.loc[:, 5]\n",
    "real_test['room_type_7'] = train_cat.loc[:, 6]\n",
    "\n",
    "train_cat = ohe.fit_transform(real_test[['market_segment_type']])\n",
    "train_cat = pd.DataFrame(train_cat)\n",
    "real_test['Corporate'] = train_cat.loc[:, 0]\n",
    "real_test['Complementary'] = train_cat.loc[:, 1]\n",
    "real_test['Online'] = train_cat.loc[:, 2]\n",
    "real_test['Offline'] = train_cat.loc[:, 3]\n",
    "real_test['Aviation'] = train_cat.loc[:, 4]\n",
    "\n",
    "\n",
    "for i in range(len(real_test)):\n",
    "    if 17.0 > real_test.loc[i, 'lead_time']:\n",
    "        real_test.loc[i, 'lead_time_under_iqr_1'] = 1\n",
    "    else:\n",
    "        real_test.loc[i, 'lead_time_under_iqr_1'] = 0\n",
    "    if 17.0 <= real_test.loc[i, 'lead_time'] < 58.0:\n",
    "        real_test.loc[i, 'lead_time_under_iqr_2'] = 1\n",
    "    else:\n",
    "        real_test.loc[i, 'lead_time_under_iqr_2'] = 0\n",
    "    if 58.0 <= real_test.loc[i, 'lead_time'] < 127.0:\n",
    "        real_test.loc[i, 'lead_time_under_iqr_3'] = 1\n",
    "    else:\n",
    "        real_test.loc[i, 'lead_time_under_iqr_3'] = 0\n",
    "    if 127.0 <= real_test.loc[i, 'lead_time']:\n",
    "        real_test.loc[i, 'lead_time_under_iqr_4'] = 1\n",
    "    else:\n",
    "        real_test.loc[i, 'lead_time_under_iqr_4'] = 0\n",
    "\n",
    "for i in range(len(real_test)):\n",
    "    if 80.7 > real_test.loc[i, 'avg_price_per_room']:\n",
    "        real_test.loc[i, 'price_under_iqr_1'] = 1\n",
    "    else:\n",
    "        real_test.loc[i, 'price_under_iqr_1'] = 0\n",
    "    if 80.7 <= real_test.loc[i, 'avg_price_per_room'] < 99.8:\n",
    "        real_test.loc[i, 'price_under_iqr_2'] = 1\n",
    "    else:\n",
    "        real_test.loc[i, 'price_under_iqr_2'] = 0\n",
    "    if 99.8 <= real_test.loc[i, 'avg_price_per_room'] < 120.1:\n",
    "        real_test.loc[i, 'price_under_iqr_3'] = 1\n",
    "    else:\n",
    "        real_test.loc[i, 'price_under_iqr_3'] = 0\n",
    "    if 120.1 <= real_test.loc[i, 'avg_price_per_room']:\n",
    "        real_test.loc[i, 'price_under_iqr_4'] = 1\n",
    "    else:\n",
    "        real_test.loc[i, 'price_under_iqr_4'] = 0\n",
    "        \n",
    "lead_time_norm = (real_test['lead_time'] - real_test['lead_time'].mean())/real_test['lead_time'].std()\n",
    "price_norm = (real_test['avg_price_per_room'] - real_test['avg_price_per_room'].mean())/real_test['avg_price_per_room'].std()\n",
    "\n",
    "real_test['lead_time_norm'] = lead_time_norm\n",
    "real_test['price_norm'] = price_norm\n",
    "\n",
    "real_test.to_csv('onehot_test.csv', index=False)\n",
    "\n"
   ]
  },
  {
   "cell_type": "code",
   "execution_count": 31,
   "metadata": {},
   "outputs": [
    {
     "data": {
      "text/plain": [
       "Index(['Booking_ID', 'no_of_adults', 'no_of_children', 'no_of_weekend_nights',\n",
       "       'no_of_week_nights', 'type_of_meal_plan', 'required_car_parking_space',\n",
       "       'room_type_reserved', 'lead_time', 'arrival_year', 'arrival_month',\n",
       "       'arrival_date', 'market_segment_type', 'repeated_guest',\n",
       "       'no_of_previous_cancellations', 'no_of_previous_bookings_not_canceled',\n",
       "       'avg_price_per_room', 'no_of_special_requests', 'meal_type_1',\n",
       "       'meal_type_2', 'meal_type_3', 'meal_type_4', 'room_type_1',\n",
       "       'room_type_2', 'room_type_3', 'room_type_4', 'room_type_5',\n",
       "       'room_type_6', 'room_type_7', 'Corporate', 'Complementary', 'Online',\n",
       "       'Offline', 'Aviation', 'lead_time_under_iqr_1', 'lead_time_under_iqr_2',\n",
       "       'lead_time_under_iqr_3', 'lead_time_under_iqr_4', 'price_under_iqr_1',\n",
       "       'price_under_iqr_2', 'price_under_iqr_3', 'price_under_iqr_4',\n",
       "       'lead_time_norm', 'price_norm'],\n",
       "      dtype='object')"
      ]
     },
     "execution_count": 31,
     "metadata": {},
     "output_type": "execute_result"
    }
   ],
   "source": [
    "real_test.keys()"
   ]
  },
  {
   "cell_type": "code",
   "execution_count": 10,
   "metadata": {},
   "outputs": [
    {
     "data": {
      "text/plain": [
       "0    8343\n",
       "1    1570\n",
       "2     967\n",
       "3       3\n",
       "Name: type_of_meal_plan, dtype: int64"
      ]
     },
     "metadata": {},
     "output_type": "display_data"
    },
    {
     "name": "stdout",
     "output_type": "stream",
     "text": [
      "##################################################\n"
     ]
    },
    {
     "data": {
      "text/plain": [
       "0    10555\n",
       "1      328\n",
       "Name: required_car_parking_space, dtype: int64"
      ]
     },
     "metadata": {},
     "output_type": "display_data"
    },
    {
     "name": "stdout",
     "output_type": "stream",
     "text": [
      "##################################################\n"
     ]
    },
    {
     "data": {
      "text/plain": [
       "0    8446\n",
       "1    1815\n",
       "3     299\n",
       "2     194\n",
       "4      79\n",
       "5      47\n",
       "6       3\n",
       "Name: room_type_reserved, dtype: int64"
      ]
     },
     "metadata": {},
     "output_type": "display_data"
    },
    {
     "name": "stdout",
     "output_type": "stream",
     "text": [
      "##################################################\n"
     ]
    },
    {
     "data": {
      "text/plain": [
       "1    7004\n",
       "0    3130\n",
       "2     590\n",
       "4     119\n",
       "3      40\n",
       "Name: market_segment_type, dtype: int64"
      ]
     },
     "metadata": {},
     "output_type": "display_data"
    },
    {
     "name": "stdout",
     "output_type": "stream",
     "text": [
      "##################################################\n"
     ]
    },
    {
     "data": {
      "text/plain": [
       "0    10592\n",
       "1      291\n",
       "Name: repeated_guest, dtype: int64"
      ]
     },
     "metadata": {},
     "output_type": "display_data"
    },
    {
     "name": "stdout",
     "output_type": "stream",
     "text": [
      "##################################################\n"
     ]
    }
   ],
   "source": [
    "import numpy as np\n",
    "\n",
    "real_test = pd.read_csv('test.csv')\n",
    "real_test = real_test.drop([\"arrival_year\", \"arrival_month\", \"arrival_date\"], axis=1)\n",
    "\n",
    "meal_plan = {\"Meal Plan 1\": 0, \"Not Selected\": 1, \"Meal Plan 2\": 2, \"Meal Plan 3\": 3}\n",
    "real_test['type_of_meal_plan'] = real_test['type_of_meal_plan'].map(meal_plan)\n",
    "\n",
    "room_type = {\n",
    "    \"Room_Type 1\": 0,\n",
    "    \"Room_Type 4\": 1,\n",
    "    \"Room_Type 6\": 3,\n",
    "    \"Room_Type 2\": 2,\n",
    "    \"Room_Type 5\": 4,\n",
    "    \"Room_Type 7\": 5,\n",
    "    \"Room_Type 3\": 6\n",
    "}\n",
    "real_test['room_type_reserved'] = real_test['room_type_reserved'].map(room_type)\n",
    "\n",
    "market_segment = {\n",
    "    \"Online\": 1,\n",
    "    \"Offline\": 0,\n",
    "    \"Corporate\": 2,\n",
    "    \"Complementary\": 4,\n",
    "    \"Aviation\": 3\n",
    "}\n",
    "real_test['market_segment_type'] = real_test['market_segment_type'].map(market_segment)\n",
    "\n",
    "category_cols = [\"type_of_meal_plan\", \"required_car_parking_space\", \"room_type_reserved\", \"market_segment_type\", \"repeated_guest\"]\n",
    "for col in category_cols:\n",
    "    display(real_test[col].value_counts())\n",
    "    print(\"#\" * 50)\n",
    "\n",
    "real_test[\"market_segment_type\"].replace({3:4}).value_counts()\n",
    "\n",
    "category_cols = [\"type_of_meal_plan\", \"required_car_parking_space\", \"room_type_reserved\", \"market_segment_type\", \"repeated_guest\"]\n",
    "X_log_1_dummy = []\n",
    "for col in category_cols:\n",
    "    if col == \"type_of_meal_plan\":\n",
    "        col_values = real_test[col].replace(3, 2)\n",
    "    elif col == \"room_type_reserved\":\n",
    "        col_values = real_test[col].replace({6:4, 5:4})\n",
    "    elif col == \"market_segment_type\":\n",
    "        col_values = real_test[col].replace({3:4})\n",
    "    else:\n",
    "        col_values = real_test[col]\n",
    "    X_log_1_dummy.append(\n",
    "        pd.get_dummies(col_values, prefix=col, prefix_sep='__', drop_first=True)\n",
    "    )\n",
    "X_log_1_dummy = pd.concat(X_log_1_dummy, axis=1)\n",
    "real_test = pd.concat([real_test.drop(category_cols, axis=1), X_log_1_dummy], axis=1)\n",
    "\n",
    "real_test[\"lead_time\"] = np.log1p(real_test[\"lead_time\"])\n",
    "real_test[\"avg_price_per_room/\"] = real_test[\"avg_price_per_room\"].apply(lambda x: 209 if x>209 else x) # 나머지 99% 외의 나머지는 209로\n",
    "\n",
    "real_test[\"lead_time__cut\"] = pd.cut(real_test[\"lead_time\"], 15, labels=[f\"lead_time__{i}\" for i in range(1,16)])\n",
    "real_test[\"avg_price_per_room__cut\"] = pd.cut(real_test[\"avg_price_per_room\"], 11, labels=[f\"avg_price_per_room__{i}\" for i in range(1,12)])\n",
    "\n",
    "real_test_dummy = [\n",
    "    pd.get_dummies(real_test[\"lead_time__cut\"], prefix=\"lead_time\", prefix_sep='__', drop_first=True),\n",
    "    pd.get_dummies(real_test[\"avg_price_per_room__cut\"], prefix=\"avg_price_per_room\", prefix_sep='__', drop_first=True)\n",
    "]\n",
    "real_test = pd.concat([real_test.drop([\"lead_time\", \"lead_time__cut\", \"avg_price_per_room__cut\"], axis=1)] + real_test_dummy, axis=1)\n",
    "real_test.to_csv('kaggle_test.csv', index = False)"
   ]
  },
  {
   "cell_type": "code",
   "execution_count": 11,
   "metadata": {},
   "outputs": [
    {
     "name": "stdout",
     "output_type": "stream",
     "text": [
      "[0 0 0 ... 0 1 1]\n"
     ]
    },
    {
     "data": {
      "text/plain": [
       "Index(['Booking_ID', 'no_of_adults', 'no_of_children', 'no_of_weekend_nights',\n",
       "       'no_of_week_nights', 'no_of_previous_cancellations',\n",
       "       'no_of_previous_bookings_not_canceled', 'avg_price_per_room',\n",
       "       'no_of_special_requests', 'type_of_meal_plan__1',\n",
       "       'type_of_meal_plan__2', 'required_car_parking_space__1',\n",
       "       'room_type_reserved__1', 'room_type_reserved__2',\n",
       "       'room_type_reserved__3', 'room_type_reserved__4',\n",
       "       'market_segment_type__1', 'market_segment_type__2',\n",
       "       'market_segment_type__4', 'repeated_guest__1', 'avg_price_per_room/',\n",
       "       'lead_time__lead_time__2', 'lead_time__lead_time__3',\n",
       "       'lead_time__lead_time__4', 'lead_time__lead_time__5',\n",
       "       'lead_time__lead_time__6', 'lead_time__lead_time__7',\n",
       "       'lead_time__lead_time__8', 'lead_time__lead_time__9',\n",
       "       'lead_time__lead_time__10', 'lead_time__lead_time__11',\n",
       "       'lead_time__lead_time__12', 'lead_time__lead_time__13',\n",
       "       'lead_time__lead_time__14', 'lead_time__lead_time__15',\n",
       "       'avg_price_per_room__avg_price_per_room__2',\n",
       "       'avg_price_per_room__avg_price_per_room__3',\n",
       "       'avg_price_per_room__avg_price_per_room__4',\n",
       "       'avg_price_per_room__avg_price_per_room__5',\n",
       "       'avg_price_per_room__avg_price_per_room__6',\n",
       "       'avg_price_per_room__avg_price_per_room__7',\n",
       "       'avg_price_per_room__avg_price_per_room__8',\n",
       "       'avg_price_per_room__avg_price_per_room__9',\n",
       "       'avg_price_per_room__avg_price_per_room__10',\n",
       "       'avg_price_per_room__avg_price_per_room__11'],\n",
       "      dtype='object')"
      ]
     },
     "execution_count": 11,
     "metadata": {},
     "output_type": "execute_result"
    }
   ],
   "source": [
    "real_test = pd.read_csv('kaggle_test.csv')\n",
    "\n",
    "feature_names = ['no_of_adults', 'no_of_children', 'no_of_weekend_nights',\n",
    "       'no_of_week_nights', 'no_of_previous_cancellations',\n",
    "       'no_of_previous_bookings_not_canceled', 'avg_price_per_room',\n",
    "       'no_of_special_requests', 'type_of_meal_plan__1',\n",
    "       'type_of_meal_plan__2', 'required_car_parking_space__1',\n",
    "       'room_type_reserved__1', 'room_type_reserved__2',\n",
    "       'room_type_reserved__3', 'room_type_reserved__4',\n",
    "       'market_segment_type__1', 'market_segment_type__2',\n",
    "       'market_segment_type__4', 'repeated_guest__1', 'avg_price_per_room/',\n",
    "       'lead_time__lead_time__2', 'lead_time__lead_time__3',\n",
    "       'lead_time__lead_time__4', 'lead_time__lead_time__5',\n",
    "       'lead_time__lead_time__6', 'lead_time__lead_time__7',\n",
    "       'lead_time__lead_time__8', 'lead_time__lead_time__9',\n",
    "       'lead_time__lead_time__10', 'lead_time__lead_time__11',\n",
    "       'lead_time__lead_time__12', 'lead_time__lead_time__13',\n",
    "       'lead_time__lead_time__14', 'lead_time__lead_time__15',\n",
    "       'avg_price_per_room__avg_price_per_room__2',\n",
    "       'avg_price_per_room__avg_price_per_room__3',\n",
    "       'avg_price_per_room__avg_price_per_room__4',\n",
    "       'avg_price_per_room__avg_price_per_room__5',\n",
    "       'avg_price_per_room__avg_price_per_room__6',\n",
    "       'avg_price_per_room__avg_price_per_room__7',\n",
    "       'avg_price_per_room__avg_price_per_room__8',\n",
    "       'avg_price_per_room__avg_price_per_room__9',\n",
    "       'avg_price_per_room__avg_price_per_room__10',\n",
    "       'avg_price_per_room__avg_price_per_room__11']\n",
    "\n",
    "test = real_test[feature_names]\n",
    "y_pred = dt_model.predict(test)\n",
    "print(y_pred)\n",
    "sample = pd.DataFrame()\n",
    "sample['Booking_ID'] = real_test['Booking_ID']\n",
    "sample['booking_status'] = y_pred\n",
    "sample.to_csv('sample.csv', index=False)\n",
    "real_test.keys()\n"
   ]
  },
  {
   "cell_type": "code",
   "execution_count": null,
   "metadata": {},
   "outputs": [],
   "source": []
  }
 ],
 "metadata": {
  "kernelspec": {
   "display_name": "Python 3",
   "language": "python",
   "name": "python3"
  },
  "language_info": {
   "codemirror_mode": {
    "name": "ipython",
    "version": 3
   },
   "file_extension": ".py",
   "mimetype": "text/x-python",
   "name": "python",
   "nbconvert_exporter": "python",
   "pygments_lexer": "ipython3",
   "version": "3.10.5"
  },
  "orig_nbformat": 4
 },
 "nbformat": 4,
 "nbformat_minor": 2
}
