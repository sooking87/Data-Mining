{
 "cells": [
  {
   "cell_type": "code",
   "execution_count": 6,
   "metadata": {},
   "outputs": [
    {
     "name": "stdout",
     "output_type": "stream",
     "text": [
      "Cross Validation Scores:  [0.73622047 0.77165354 0.7519685  0.77559055 0.75590551 0.76771654\n",
      " 0.7480315  0.78740157 0.75590551 0.74015748 0.75984252 0.74409449\n",
      " 0.75590551 0.77559055 0.72047244 0.79133858 0.77559055 0.81496063\n",
      " 0.79133858 0.77165354 0.79133858 0.75984252 0.75590551 0.7519685\n",
      " 0.77559055 0.77559055 0.78740157 0.77165354 0.76771654 0.80708661\n",
      " 0.7480315  0.77952756 0.80708661 0.72047244 0.78740157 0.76771654\n",
      " 0.7519685  0.73622047 0.80314961 0.69291339 0.76771654 0.78740157\n",
      " 0.75984252 0.76771654 0.7519685  0.77952756 0.76771654 0.78346457\n",
      " 0.7992126  0.7992126  0.77165354 0.73228346 0.77952756 0.82677165\n",
      " 0.74015748 0.77165354 0.75984252 0.78740157 0.81102362 0.78346457\n",
      " 0.7519685  0.75590551 0.76377953 0.78740157 0.7480315  0.80708661\n",
      " 0.72440945 0.75590551 0.79527559 0.76771654 0.78740157 0.80708661\n",
      " 0.7992126  0.77559055 0.75984252 0.77559055 0.77559055 0.79527559\n",
      " 0.81102362 0.75984252 0.79133858 0.78346457 0.77559055 0.73622047\n",
      " 0.78346457 0.76771654 0.77952756 0.77952756 0.7992126  0.76771654\n",
      " 0.82677165 0.7480315  0.75494071 0.77470356 0.80632411 0.7944664\n",
      " 0.79051383 0.77075099 0.76284585 0.75494071]\n",
      "Average CV Score:  0.7720948616600792\n",
      "Number of CV Scores used in Average:  100\n"
     ]
    }
   ],
   "source": [
    "from sklearn.tree import DecisionTreeClassifier\n",
    "from sklearn.model_selection import train_test_split\n",
    "from sklearn.metrics import accuracy_score\n",
    "import pandas as pd\n",
    "from sklearn.model_selection import KFold, cross_val_score\n",
    "\n",
    "'''\n",
    "attr_name = ['no_of_adults', 'no_of_children', 'no_of_weekend_nights',\n",
    "       'no_of_week_nights', 'type_of_meal_plan', 'required_car_parking_space',\n",
    "       'room_type_reserved', 'lead_time', 'arrival_year', 'arrival_month',\n",
    "       'arrival_date', 'market_segment_type', 'repeated_guest',\n",
    "       'no_of_previous_cancellations', 'no_of_previous_bookings_not_canceled',\n",
    "       'avg_price_per_room', 'no_of_special_requests', 'booking_status']\n",
    "'''\n",
    "\n",
    "\n",
    "train = pd.read_csv('num_booking_status.csv')\n",
    "#no_of_adults,no_of_children,avg_price_per_room 특징만 고려\n",
    "feature_names = [\"no_of_adults\", \"no_of_children\", \"lead_time\"]\n",
    "X = train[feature_names]\n",
    "y = train[\"booking_status\"]\n",
    "\n",
    "# Decision Tree 학습/예측/평가\n",
    "X_train, X_test, y_train, y_test = train_test_split(X, y, test_size=0.2)\n",
    "\n",
    "# Decision Tree 학습/예측/평가\n",
    "dt_model = DecisionTreeClassifier()\n",
    "scores = cross_val_score(dt_model, X, y, cv=100)\n",
    "print(\"Cross Validation Scores: \", scores)\n",
    "print(\"Average CV Score: \", scores.mean())\n",
    "print(\"Number of CV Scores used in Average: \", len(scores))"
   ]
  }
 ],
 "metadata": {
  "kernelspec": {
   "display_name": "Python 3",
   "language": "python",
   "name": "python3"
  },
  "language_info": {
   "codemirror_mode": {
    "name": "ipython",
    "version": 3
   },
   "file_extension": ".py",
   "mimetype": "text/x-python",
   "name": "python",
   "nbconvert_exporter": "python",
   "pygments_lexer": "ipython3",
   "version": "3.10.3"
  },
  "orig_nbformat": 4
 },
 "nbformat": 4,
 "nbformat_minor": 2
}
