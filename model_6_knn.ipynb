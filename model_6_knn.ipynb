{
 "cells": [
  {
   "cell_type": "code",
   "execution_count": 1,
   "metadata": {},
   "outputs": [],
   "source": [
    "from sklearn.model_selection import train_test_split\n",
    "from sklearn.metrics import accuracy_score\n",
    "from sklearn.neighbors import KNeighborsClassifier\n",
    "import pandas as pd\n",
    "from sklearn.model_selection import KFold, cross_val_score\n",
    "from sklearn.metrics import confusion_matrix, accuracy_score\n"
   ]
  },
  {
   "cell_type": "code",
   "execution_count": 3,
   "metadata": {},
   "outputs": [
    {
     "name": "stdout",
     "output_type": "stream",
     "text": [
      "Cross Validation Scores:  [0.80472441 0.7992126  0.79834581 0.80149665 0.80189051 0.80701063\n",
      " 0.81055534 0.80189051 0.80661678 0.79873966]\n",
      "Average CV Score:  0.8030482892080396\n",
      "Number of CV Scores used in Average:  10\n"
     ]
    }
   ],
   "source": [
    "\n",
    "\n",
    "train = pd.read_csv('onehot_sample.csv')\n",
    "feature_names = ['no_of_adults', 'no_of_children', 'no_of_weekend_nights',\n",
    "                 'no_of_week_nights', 'required_car_parking_space',\n",
    "                 'lead_time', 'arrival_year', 'arrival_month',\n",
    "                 'arrival_date', 'repeated_guest',\n",
    "                 'no_of_previous_cancellations', 'no_of_previous_bookings_not_canceled',\n",
    "                 'avg_price_per_room', 'no_of_special_requests',\n",
    "                 'meal_type_1', 'meal_type_2', 'meal_type_3', 'meal_type_4',\n",
    "                 'room_type_1', 'room_type_2', 'room_type_3', 'room_type_4',\n",
    "                 'room_type_5', 'room_type_6', 'room_type_7', 'Corporate',\n",
    "                 'Complementary', 'Online', 'Offline', 'Aviation']\n",
    "\n",
    "X = train[feature_names]\n",
    "y = train[\"booking_status\"]\n",
    "\n",
    "# Decision Tree 학습/예측/평가\n",
    "X_train, X_test, y_train, y_test = train_test_split(X, y)\n",
    "\n",
    "# LogisticRegression 학습/예측/평가\n",
    "knn_model = KNeighborsClassifier()\n",
    "scores = cross_val_score(knn_model, X, y, cv=10)\n",
    "print(\"Cross Validation Scores: \", scores)\n",
    "print(\"Average CV Score: \", scores.mean())\n",
    "print(\"Number of CV Scores used in Average: \", len(scores))\n"
   ]
  },
  {
   "cell_type": "code",
   "execution_count": 4,
   "metadata": {},
   "outputs": [
    {
     "name": "stdout",
     "output_type": "stream",
     "text": [
      "NearestNeighbors 정확도: 0.8026\n"
     ]
    }
   ],
   "source": [
    "knn_model.fit(X_train, y_train)\n",
    "knn_pred = knn_model.predict(X_test)\n",
    "print('NearestNeighbors 정확도: {0:.4f}'.format(accuracy_score(y_test, knn_pred)))\n"
   ]
  }
 ],
 "metadata": {
  "kernelspec": {
   "display_name": "Python 3",
   "language": "python",
   "name": "python3"
  },
  "language_info": {
   "codemirror_mode": {
    "name": "ipython",
    "version": 3
   },
   "file_extension": ".py",
   "mimetype": "text/x-python",
   "name": "python",
   "nbconvert_exporter": "python",
   "pygments_lexer": "ipython3",
   "version": "3.10.5"
  },
  "orig_nbformat": 4
 },
 "nbformat": 4,
 "nbformat_minor": 2
}
