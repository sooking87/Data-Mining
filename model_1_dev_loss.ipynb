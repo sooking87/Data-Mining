{
 "cells": [
  {
   "cell_type": "code",
   "execution_count": 1,
   "metadata": {},
   "outputs": [],
   "source": [
    "from sklearn.neural_network import MLPClassifier\n",
    "from sklearn.model_selection import train_test_split\n",
    "from sklearn.metrics import accuracy_score\n",
    "import pandas as pd\n",
    "from sklearn.model_selection import KFold, cross_val_score\n",
    "import matplotlib.pyplot as plt\n",
    "from sklearn.model_selection import learning_curve\n",
    "import numpy as np"
   ]
  },
  {
   "cell_type": "code",
   "execution_count": 2,
   "metadata": {},
   "outputs": [
    {
     "data": {
      "text/plain": [
       "Index(['Booking_ID', 'no_of_adults', 'no_of_children', 'no_of_weekend_nights',\n",
       "       'no_of_week_nights', 'type_of_meal_plan', 'required_car_parking_space',\n",
       "       'room_type_reserved', 'lead_time', 'arrival_year', 'arrival_month',\n",
       "       'arrival_date', 'market_segment_type', 'repeated_guest',\n",
       "       'no_of_previous_cancellations', 'no_of_previous_bookings_not_canceled',\n",
       "       'avg_price_per_room', 'no_of_special_requests', 'booking_status',\n",
       "       'meal_type_1', 'meal_type_2', 'meal_type_3', 'meal_type_4',\n",
       "       'room_type_1', 'room_type_2', 'room_type_3', 'room_type_4',\n",
       "       'room_type_5', 'room_type_6', 'room_type_7', 'Corporate',\n",
       "       'Complementary', 'Online', 'Offline', 'Aviation'],\n",
       "      dtype='object')"
      ]
     },
     "execution_count": 2,
     "metadata": {},
     "output_type": "execute_result"
    }
   ],
   "source": [
    "data = pd.read_csv('onehot_sample.csv')\n",
    "data.keys()"
   ]
  },
  {
   "cell_type": "code",
   "execution_count": 55,
   "metadata": {},
   "outputs": [
    {
     "name": "stdout",
     "output_type": "stream",
     "text": [
      "Cross Validation Scores:  [0.78346457 0.78248031 0.8011811  0.80314961 0.79527559 0.80314961\n",
      " 0.79724409 0.76574803 0.78740157 0.79232283 0.79527559 0.78543307\n",
      " 0.80610236 0.79507389 0.8        0.80689655 0.7862069  0.7773399\n",
      " 0.79014778 0.77241379]\n",
      "Average CV Score:  0.7913153582095341\n",
      "Number of CV Scores used in Average:  20\n"
     ]
    }
   ],
   "source": [
    "'''\n",
    "=============================================================\n",
    "전체 데이터\n",
    "============================================================\n",
    "'''\n",
    "\n",
    "train = pd.read_csv('num_booking_status.csv')\n",
    "#no_of_adults,no_of_children,avg_price_per_room 특징만 고려\n",
    "feature_names = ['no_of_adults', 'no_of_children', 'no_of_weekend_nights',\n",
    "                 'no_of_week_nights', 'required_car_parking_space',\n",
    "                 'lead_time', 'repeated_guest',\n",
    "                 'no_of_previous_cancellations', 'no_of_previous_bookings_not_canceled',\n",
    "                 'avg_price_per_room', 'no_of_special_requests']\n",
    "X = train[feature_names]\n",
    "y = train[\"booking_status\"]\n",
    "\n",
    "# loss function을 통해서 test_size는 0.2로 선택\n",
    "X_train, X_test, y_train, y_test = train_test_split(X, y, stratify=y,test_size=0.2)\n",
    "# X_train, X_val, y_train, y_val = train_test_split(X_train, y_train, test_size=0.2)\n",
    "mlp_model = MLPClassifier(hidden_layer_sizes=(10, 20),\n",
    "                        max_iter = 300, activation = 'relu',\n",
    "                        solver = 'adam', batch_size = 128, learning_rate = 'adaptive')\n",
    "n_splits = 20\n",
    "k_folds = KFold(n_splits = n_splits)\n",
    "# scores = cross_val_score(mlp_model, X, y, cv=k_folds)\n",
    "scores = cross_val_score(mlp_model, X_train, y_train, cv=k_folds)\n",
    "print(\"Cross Validation Scores: \", scores)\n",
    "print(\"Average CV Score: \", scores.mean())\n",
    "print(\"Number of CV Scores used in Average: \", len(scores))"
   ]
  },
  {
   "cell_type": "code",
   "execution_count": 56,
   "metadata": {},
   "outputs": [
    {
     "data": {
      "text/plain": [
       "MLPClassifier(batch_size=128, hidden_layer_sizes=(10, 20),\n",
       "              learning_rate='adaptive', max_iter=300)"
      ]
     },
     "execution_count": 56,
     "metadata": {},
     "output_type": "execute_result"
    }
   ],
   "source": [
    "mlp_model.fit(X_train, y_train)"
   ]
  },
  {
   "cell_type": "code",
   "execution_count": 57,
   "metadata": {},
   "outputs": [
    {
     "name": "stdout",
     "output_type": "stream",
     "text": [
      "Accuracy: 0.79\n"
     ]
    }
   ],
   "source": [
    "y_pred = mlp_model.predict(X_test)\n",
    "print('Accuracy: {:.2f}'.format(accuracy_score(y_test, y_pred)))"
   ]
  },
  {
   "cell_type": "code",
   "execution_count": 70,
   "metadata": {},
   "outputs": [
    {
     "name": "stdout",
     "output_type": "stream",
     "text": [
      "Cross Validation Scores:  [0.76685083 0.77348066 0.77458564 0.79889503 0.80110497 0.78121547\n",
      " 0.78232044 0.81325967 0.79116022 0.80441989 0.82099448 0.77237569\n",
      " 0.75995575 0.80752212 0.7909292  0.79424779 0.78650442 0.80641593\n",
      " 0.80088496 0.7909292 ]\n",
      "Average CV Score:  0.7909026181978194\n",
      "Number of CV Scores used in Average:  20\n",
      "Accuracy: 0.79\n"
     ]
    }
   ],
   "source": [
    "'''\n",
    "=============================================================\n",
    "outlier 제거\n",
    "============================================================\n",
    "'''\n",
    "train = pd.read_csv('num_booking_status.csv')\n",
    "outlier = len(train) * 0.025\n",
    "train = train.loc[outlier:len(train)-outlier, :]\n",
    "#no_of_adults,no_of_children,avg_price_per_room 특징만 고려\n",
    "feature_names = ['no_of_adults', 'no_of_children', 'no_of_weekend_nights',\n",
    "                 'no_of_week_nights', 'required_car_parking_space',\n",
    "                 'lead_time', 'repeated_guest',\n",
    "                 'no_of_previous_cancellations', 'no_of_previous_bookings_not_canceled',\n",
    "                 'avg_price_per_room', 'no_of_special_requests']\n",
    "X = train[feature_names]\n",
    "y = train[\"booking_status\"]\n",
    "\n",
    "# loss function을 통해서 test_size는 0.2로 선택\n",
    "X_train, X_test, y_train, y_test = train_test_split(X, y, stratify=y,test_size=0.25)\n",
    "# X_train, X_val, y_train, y_val = train_test_split(X_train, y_train, test_size=0.2)\n",
    "mlp_model = MLPClassifier(hidden_layer_sizes=(10, 20),\n",
    "                        max_iter = 300, activation = 'relu',\n",
    "                        solver = 'adam', batch_size = 128, learning_rate = 'adaptive')\n",
    "n_splits = 20\n",
    "k_folds = KFold(n_splits = n_splits)\n",
    "# scores = cross_val_score(mlp_model, X, y, cv=k_folds)\n",
    "scores = cross_val_score(mlp_model, X_train, y_train, cv=k_folds)\n",
    "print(\"Cross Validation Scores: \", scores)\n",
    "print(\"Average CV Score: \", scores.mean())\n",
    "print(\"Number of CV Scores used in Average: \", len(scores))\n",
    "\n",
    "mlp_model.fit(X_train, y_train)\n",
    "\n",
    "y_pred = mlp_model.predict(X_test)\n",
    "print('Accuracy: {:.2f}'.format(accuracy_score(y_test, y_pred)))\n"
   ]
  },
  {
   "cell_type": "code",
   "execution_count": 66,
   "metadata": {},
   "outputs": [
    {
     "name": "stderr",
     "output_type": "stream",
     "text": [
      "c:\\Users\\user\\AppData\\Local\\Programs\\Python\\Python310\\lib\\site-packages\\sklearn\\neural_network\\_multilayer_perceptron.py:611: UserWarning: Got `batch_size` less than 1 or larger than sample size. It is going to be clipped\n",
      "  warnings.warn(\n",
      "c:\\Users\\user\\AppData\\Local\\Programs\\Python\\Python310\\lib\\site-packages\\sklearn\\neural_network\\_multilayer_perceptron.py:611: UserWarning: Got `batch_size` less than 1 or larger than sample size. It is going to be clipped\n",
      "  warnings.warn(\n",
      "c:\\Users\\user\\AppData\\Local\\Programs\\Python\\Python310\\lib\\site-packages\\sklearn\\neural_network\\_multilayer_perceptron.py:611: UserWarning: Got `batch_size` less than 1 or larger than sample size. It is going to be clipped\n",
      "  warnings.warn(\n",
      "c:\\Users\\user\\AppData\\Local\\Programs\\Python\\Python310\\lib\\site-packages\\sklearn\\neural_network\\_multilayer_perceptron.py:611: UserWarning: Got `batch_size` less than 1 or larger than sample size. It is going to be clipped\n",
      "  warnings.warn(\n",
      "c:\\Users\\user\\AppData\\Local\\Programs\\Python\\Python310\\lib\\site-packages\\sklearn\\neural_network\\_multilayer_perceptron.py:611: UserWarning: Got `batch_size` less than 1 or larger than sample size. It is going to be clipped\n",
      "  warnings.warn(\n",
      "c:\\Users\\user\\AppData\\Local\\Programs\\Python\\Python310\\lib\\site-packages\\sklearn\\neural_network\\_multilayer_perceptron.py:611: UserWarning: Got `batch_size` less than 1 or larger than sample size. It is going to be clipped\n",
      "  warnings.warn(\n",
      "c:\\Users\\user\\AppData\\Local\\Programs\\Python\\Python310\\lib\\site-packages\\sklearn\\neural_network\\_multilayer_perceptron.py:611: UserWarning: Got `batch_size` less than 1 or larger than sample size. It is going to be clipped\n",
      "  warnings.warn(\n",
      "c:\\Users\\user\\AppData\\Local\\Programs\\Python\\Python310\\lib\\site-packages\\sklearn\\neural_network\\_multilayer_perceptron.py:611: UserWarning: Got `batch_size` less than 1 or larger than sample size. It is going to be clipped\n",
      "  warnings.warn(\n",
      "c:\\Users\\user\\AppData\\Local\\Programs\\Python\\Python310\\lib\\site-packages\\sklearn\\neural_network\\_multilayer_perceptron.py:611: UserWarning: Got `batch_size` less than 1 or larger than sample size. It is going to be clipped\n",
      "  warnings.warn(\n",
      "c:\\Users\\user\\AppData\\Local\\Programs\\Python\\Python310\\lib\\site-packages\\sklearn\\neural_network\\_multilayer_perceptron.py:692: ConvergenceWarning: Stochastic Optimizer: Maximum iterations (300) reached and the optimization hasn't converged yet.\n",
      "  warnings.warn(\n",
      "c:\\Users\\user\\AppData\\Local\\Programs\\Python\\Python310\\lib\\site-packages\\sklearn\\neural_network\\_multilayer_perceptron.py:611: UserWarning: Got `batch_size` less than 1 or larger than sample size. It is going to be clipped\n",
      "  warnings.warn(\n"
     ]
    },
    {
     "name": "stdout",
     "output_type": "stream",
     "text": [
      "Training scores:\n",
      "\n",
      " [[-0.         -0.         -0.         -0.         -0.         -0.\n",
      "  -0.         -0.         -0.         -0.        ]\n",
      " [-0.213      -0.207      -0.2        -0.217      -0.213      -0.214\n",
      "  -0.224      -0.222      -0.22       -0.227     ]\n",
      " [-0.214      -0.207      -0.214      -0.2        -0.2255     -0.2275\n",
      "  -0.2265     -0.2375     -0.209      -0.2085    ]\n",
      " [-0.2366     -0.204      -0.196      -0.1996     -0.2164     -0.214\n",
      "  -0.2098     -0.2186     -0.2106     -0.2136    ]\n",
      " [-0.21842857 -0.21314286 -0.20542857 -0.20971429 -0.20414286 -0.19714286\n",
      "  -0.22328571 -0.21342857 -0.216      -0.19914286]\n",
      " [-0.208875   -0.207      -0.239875   -0.1975     -0.213      -0.2055\n",
      "  -0.199375   -0.202      -0.22575    -0.208625  ]]\n",
      "\n",
      " ----------------------------------------------------------------------\n",
      "\n",
      "Validation scores:\n",
      "\n",
      " [[-0.67357513 -0.32642487 -0.32642487 -0.32642487 -0.32642487 -0.32642487\n",
      "  -0.32642487 -0.32694301 -0.32659409 -0.32659409]\n",
      " [-0.24455959 -0.22694301 -0.21865285 -0.23471503 -0.24248705 -0.21036269\n",
      "  -0.22849741 -0.25440415 -0.2498704  -0.25401763]\n",
      " [-0.23108808 -0.23108808 -0.22331606 -0.20569948 -0.22953368 -0.22746114\n",
      "  -0.23989637 -0.26580311 -0.22239502 -0.22913427]\n",
      " [-0.24352332 -0.2015544  -0.20310881 -0.20259067 -0.22176166 -0.20725389\n",
      "  -0.21398964 -0.22124352 -0.20580612 -0.22861586]\n",
      " [-0.21761658 -0.21606218 -0.22020725 -0.21398964 -0.21088083 -0.20362694\n",
      "  -0.22901554 -0.2253886  -0.22135822 -0.22187662]\n",
      " [-0.20466321 -0.20673575 -0.2388601  -0.20518135 -0.22176166 -0.20932642\n",
      "  -0.20777202 -0.20673575 -0.23328149 -0.23224469]]\n"
     ]
    }
   ],
   "source": [
    "train_sizes = [1, 1000, 2000, 5000, 7000, 8000]\n",
    "# train_sizes = [1, 100, 200, 500, 700, 800]\n",
    "train_sizes, train_scores, validation_scores = learning_curve(\n",
    "estimator = mlp_model,\n",
    "X = X_train,\n",
    "y = y_train, train_sizes = train_sizes, cv = 10,\n",
    "scoring = 'neg_mean_squared_error')\n",
    "\n",
    "print('Training scores:\\n\\n', train_scores)\n",
    "print('\\n', '-' * 70) # separator to make the output easy to read\n",
    "print('\\nValidation scores:\\n\\n', validation_scores)"
   ]
  },
  {
   "cell_type": "code",
   "execution_count": 67,
   "metadata": {},
   "outputs": [
    {
     "name": "stdout",
     "output_type": "stream",
     "text": [
      "Mean training scores\n",
      "\n",
      " 1      -0.000000\n",
      "1000    0.215700\n",
      "2000    0.216950\n",
      "5000    0.211920\n",
      "7000    0.209986\n",
      "8000    0.210750\n",
      "dtype: float64\n",
      "\n",
      " --------------------\n",
      "\n",
      "Mean validation scores\n",
      "\n",
      " 1       0.361226\n",
      "1000    0.236451\n",
      "2000    0.230542\n",
      "5000    0.214945\n",
      "7000    0.218002\n",
      "8000    0.216656\n",
      "dtype: float64\n"
     ]
    }
   ],
   "source": [
    "train_scores_mean = -train_scores.mean(axis = 1)\n",
    "validation_scores_mean = -validation_scores.mean(axis = 1)\n",
    "print('Mean training scores\\n\\n', pd.Series(train_scores_mean, index = train_sizes))\n",
    "print('\\n', '-' * 20) # separator\n",
    "print('\\nMean validation scores\\n\\n',pd.Series(validation_scores_mean, index = train_sizes))"
   ]
  },
  {
   "cell_type": "code",
   "execution_count": 68,
   "metadata": {},
   "outputs": [
    {
     "data": {
      "text/plain": [
       "(0.0, 1.0)"
      ]
     },
     "execution_count": 68,
     "metadata": {},
     "output_type": "execute_result"
    },
    {
     "data": {
      "image/png": "[encoded data removed]",
      "text/plain": [
       "<Figure size 800x550 with 1 Axes>"
      ]
     },
     "metadata": {},
     "output_type": "display_data"
    }
   ],
   "source": [
    "import matplotlib.pyplot as plt\n",
    "\n",
    "plt.style.use('seaborn')\n",
    "plt.plot(train_sizes, train_scores_mean, label = 'Training error')\n",
    "plt.plot(train_sizes, validation_scores_mean, label = 'Validation error')\n",
    "plt.ylabel('MSE', fontsize = 14)\n",
    "plt.xlabel('Training set size', fontsize = 14)\n",
    "plt.title('Learning curves for a mlp classifier model', fontsize = 18, y = 1.03)\n",
    "plt.legend()\n",
    "plt.ylim(0, 1)"
   ]
  },
  {
   "cell_type": "code",
   "execution_count": 75,
   "metadata": {},
   "outputs": [
    {
     "name": "stdout",
     "output_type": "stream",
     "text": [
      "Cross Validation Scores:  [0.80167891 0.80062959 0.78174187 0.79748164 0.78256303 0.77521008\n",
      " 0.79831933 0.80357143 0.81197479 0.80042017 0.82563025 0.77415966\n",
      " 0.78361345 0.78886555 0.78781513 0.78256303 0.79411765 0.79306723\n",
      " 0.79411765 0.78991597]\n",
      "Average CV Score:  0.7933728186972587\n",
      "Number of CV Scores used in Average:  20\n",
      "Accuracy: 0.78\n"
     ]
    }
   ],
   "source": [
    "'''\n",
    "=============================================================\n",
    "lead_time 정규화 -> 별로\n",
    "=============================================================\n",
    "'''\n",
    "train = pd.read_csv('num_booking_status.csv')\n",
    "train['lead_time_norm'] = train['lead_time'].map(np.sqrt)\n",
    "feature_names = ['no_of_adults', 'no_of_children', 'no_of_weekend_nights',\n",
    "                 'no_of_week_nights', 'required_car_parking_space',\n",
    "                 'lead_time', 'repeated_guest',\n",
    "                 'no_of_previous_cancellations', 'no_of_previous_bookings_not_canceled',\n",
    "                 'avg_price_per_room', 'no_of_special_requests']\n",
    "X = train[feature_names]\n",
    "y = train[\"booking_status\"]\n",
    "\n",
    "# loss function을 통해서 test_size는 0.2로 선택\n",
    "X_train, X_test, y_train, y_test = train_test_split(X, y, stratify=y,test_size=0.25)\n",
    "# X_train, X_val, y_train, y_val = train_test_split(X_train, y_train, test_size=0.2)\n",
    "mlp_model = MLPClassifier(hidden_layer_sizes=(10, 20),\n",
    "                        max_iter = 300, activation = 'relu',\n",
    "                        solver = 'adam', batch_size = 128, learning_rate = 'adaptive')\n",
    "n_splits = 10\n",
    "k_folds = KFold(n_splits = n_splits)\n",
    "# scores = cross_val_score(mlp_model, X, y, cv=k_folds)\n",
    "scores = cross_val_score(mlp_model, X_train, y_train, cv=k_folds)\n",
    "print(\"Cross Validation Scores: \", scores)\n",
    "print(\"Average CV Score: \", scores.mean())\n",
    "print(\"Number of CV Scores used in Average: \", len(scores))\n",
    "\n",
    "mlp_model.fit(X_train, y_train)\n",
    "\n",
    "y_pred = mlp_model.predict(X_test)\n",
    "print('Accuracy: {:.2f}'.format(accuracy_score(y_test, y_pred)))"
   ]
  },
  {
   "cell_type": "code",
   "execution_count": 78,
   "metadata": {},
   "outputs": [
    {
     "name": "stdout",
     "output_type": "stream",
     "text": [
      "Cross Validation Scores:  [0.67769029 0.59790026 0.73333333 0.64146982 0.80042017 0.66228992\n",
      " 0.79779412 0.32668067 0.74054622 0.50052521]\n",
      "Average CV Score:  0.6478650003308409\n",
      "Number of CV Scores used in Average:  10\n"
     ]
    }
   ],
   "source": [
    "'''\n",
    "=============================================================\n",
    "cate to num\n",
    "=============================================================\n",
    "'''\n",
    "from sklearn.model_selection import GridSearchCV\n",
    "\n",
    "train = pd.read_csv('conti_to_onehot_train.csv')\n",
    "feature_names = ['no_of_adults', 'no_of_children', 'no_of_weekend_nights',\n",
    "       'no_of_week_nights', 'required_car_parking_space',\n",
    "       'arrival_year', 'arrival_month',\n",
    "       'arrival_date', 'repeated_guest',\n",
    "       'no_of_previous_cancellations', 'no_of_previous_bookings_not_canceled',\n",
    "       'no_of_special_requests', \n",
    "       'meal_type_1', 'meal_type_2', 'meal_type_3', 'meal_type_4',\n",
    "       'room_type_1', 'room_type_2', 'room_type_3', 'room_type_4',\n",
    "       'room_type_5', 'room_type_6', 'room_type_7', 'Corporate',\n",
    "       'Complementary', 'Online', 'Offline', 'Aviation',\n",
    "       'lead_time_under_iqr_1', 'lead_time_under_iqr_2',\n",
    "       'lead_time_under_iqr_3', 'lead_time_under_iqr_4', 'price_under_iqr_1',\n",
    "       'price_under_iqr_2', 'price_under_iqr_3', 'price_under_iqr_4']\n",
    "X = train[feature_names]\n",
    "y = train[\"booking_status\"]\n",
    "\n",
    "# loss function을 통해서 test_size는 0.2로 선택\n",
    "X_train, X_test, y_train, y_test = train_test_split(\n",
    "    X, y, stratify=y, test_size=0.25, random_state = 42)\n",
    "# X_train, X_val, y_train, y_val = train_test_split(X_train, y_train, test_size=0.2)\n",
    "mlp_model = MLPClassifier(hidden_layer_sizes=(100, 100),\n",
    "                          max_iter=300, activation='relu',\n",
    "                          solver='adam', batch_size=128, learning_rate='adaptive')\n",
    "n_splits = 10\n",
    "k_folds = KFold(n_splits=n_splits)\n",
    "# scores = cross_val_score(mlp_model, X, y, cv=k_folds)\n",
    "scores = cross_val_score(mlp_model, X_train, y_train, cv=k_folds)\n",
    "print(\"Cross Validation Scores: \", scores)\n",
    "print(\"Average CV Score: \", scores.mean())\n",
    "print(\"Number of CV Scores used in Average: \", len(scores))\n",
    "\n"
   ]
  },
  {
   "cell_type": "code",
   "execution_count": null,
   "metadata": {},
   "outputs": [],
   "source": [
    "parameters={\n",
    "'learning_rate': [\"constant\", \"invscaling\", \"adaptive\"],\n",
    "'hidden_layer_sizes': [(100,1), (100,2), (100,3)],\n",
    "'alpha': [10.0 ** -np.arange(1, 7)],\n",
    "'activation': [\"logistic\", \"relu\", \"Tanh\"]\n",
    "}\n",
    "\n",
    "mlp_model = gridSearchCV(estimator=MLPClassifier,param_grid=parameters,n_jobs=-1,verbose=2,cv=10)"
   ]
  },
  {
   "cell_type": "code",
   "execution_count": null,
   "metadata": {},
   "outputs": [],
   "source": [
    "mlp_model.fit(X_train, y_train)\n",
    "\n",
    "\n"
   ]
  },
  {
   "cell_type": "code",
   "execution_count": null,
   "metadata": {},
   "outputs": [],
   "source": [
    "y_pred = mlp_model.predict(X_test)\n",
    "print('Accuracy: {:.2f}'.format(accuracy_score(y_test, y_pred)))"
   ]
  },
  {
   "cell_type": "code",
   "execution_count": 69,
   "metadata": {},
   "outputs": [
    {
     "data": {
      "text/html": [
       "<div>\n",
       "<style scoped>\n",
       "    .dataframe tbody tr th:only-of-type {\n",
       "        vertical-align: middle;\n",
       "    }\n",
       "\n",
       "    .dataframe tbody tr th {\n",
       "        vertical-align: top;\n",
       "    }\n",
       "\n",
       "    .dataframe thead th {\n",
       "        text-align: right;\n",
       "    }\n",
       "</style>\n",
       "<table border=\"1\" class=\"dataframe\">\n",
       "  <thead>\n",
       "    <tr style=\"text-align: right;\">\n",
       "      <th></th>\n",
       "      <th>Booking_ID</th>\n",
       "      <th>booking_status</th>\n",
       "    </tr>\n",
       "  </thead>\n",
       "  <tbody>\n",
       "    <tr>\n",
       "      <th>0</th>\n",
       "      <td>INN04969</td>\n",
       "      <td>0</td>\n",
       "    </tr>\n",
       "    <tr>\n",
       "      <th>1</th>\n",
       "      <td>INN34541</td>\n",
       "      <td>0</td>\n",
       "    </tr>\n",
       "    <tr>\n",
       "      <th>2</th>\n",
       "      <td>INN36109</td>\n",
       "      <td>0</td>\n",
       "    </tr>\n",
       "    <tr>\n",
       "      <th>3</th>\n",
       "      <td>INN01554</td>\n",
       "      <td>0</td>\n",
       "    </tr>\n",
       "    <tr>\n",
       "      <th>4</th>\n",
       "      <td>INN24975</td>\n",
       "      <td>0</td>\n",
       "    </tr>\n",
       "    <tr>\n",
       "      <th>...</th>\n",
       "      <td>...</td>\n",
       "      <td>...</td>\n",
       "    </tr>\n",
       "    <tr>\n",
       "      <th>10878</th>\n",
       "      <td>INN29686</td>\n",
       "      <td>0</td>\n",
       "    </tr>\n",
       "    <tr>\n",
       "      <th>10879</th>\n",
       "      <td>INN01107</td>\n",
       "      <td>0</td>\n",
       "    </tr>\n",
       "    <tr>\n",
       "      <th>10880</th>\n",
       "      <td>INN06811</td>\n",
       "      <td>0</td>\n",
       "    </tr>\n",
       "    <tr>\n",
       "      <th>10881</th>\n",
       "      <td>INN27777</td>\n",
       "      <td>1</td>\n",
       "    </tr>\n",
       "    <tr>\n",
       "      <th>10882</th>\n",
       "      <td>INN04027</td>\n",
       "      <td>1</td>\n",
       "    </tr>\n",
       "  </tbody>\n",
       "</table>\n",
       "<p>10883 rows × 2 columns</p>\n",
       "</div>"
      ],
      "text/plain": [
       "      Booking_ID  booking_status\n",
       "0       INN04969               0\n",
       "1       INN34541               0\n",
       "2       INN36109               0\n",
       "3       INN01554               0\n",
       "4       INN24975               0\n",
       "...          ...             ...\n",
       "10878   INN29686               0\n",
       "10879   INN01107               0\n",
       "10880   INN06811               0\n",
       "10881   INN27777               1\n",
       "10882   INN04027               1\n",
       "\n",
       "[10883 rows x 2 columns]"
      ]
     },
     "execution_count": 69,
     "metadata": {},
     "output_type": "execute_result"
    }
   ],
   "source": [
    "real_test = pd.read_csv('test.csv')\n",
    "\n",
    "feature_names = ['no_of_adults', 'no_of_children', 'no_of_weekend_nights',\n",
    "                 'no_of_week_nights', 'required_car_parking_space',\n",
    "                 'lead_time', 'repeated_guest',\n",
    "                 'no_of_previous_cancellations', 'no_of_previous_bookings_not_canceled',\n",
    "                 'avg_price_per_room', 'no_of_special_requests']\n",
    "test = real_test[feature_names]\n",
    "y_pred = mlp_model.predict(test)\n",
    "\n",
    "sample = pd.DataFrame()\n",
    "sample['Booking_ID'] = real_test['Booking_ID']\n",
    "sample['booking_status'] = y_pred\n",
    "sample.to_csv('sample.csv', index = False)\n",
    "sample"
   ]
  }
 ],
 "metadata": {
  "kernelspec": {
   "display_name": "Python 3",
   "language": "python",
   "name": "python3"
  },
  "language_info": {
   "codemirror_mode": {
    "name": "ipython",
    "version": 3
   },
   "file_extension": ".py",
   "mimetype": "text/x-python",
   "name": "python",
   "nbconvert_exporter": "python",
   "pygments_lexer": "ipython3",
   "version": "3.10.5"
  },
  "orig_nbformat": 4
 },
 "nbformat": 4,
 "nbformat_minor": 2
}
