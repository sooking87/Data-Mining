{
 "cells": [
  {
   "cell_type": "code",
   "execution_count": 1,
   "metadata": {},
   "outputs": [],
   "source": [
    "from sklearn.neural_network import MLPClassifier\n",
    "from sklearn.model_selection import train_test_split\n",
    "from sklearn.metrics import accuracy_score\n",
    "import pandas as pd\n",
    "from sklearn.model_selection import KFold, cross_val_score\n",
    "\n",
    "train = pd.read_csv('train.csv')\n",
    "#no_of_adults,no_of_children,avg_price_per_room 특징만 고려\n",
    "feature_names = [\"no_of_adults\", \"no_of_children\", \"avg_price_per_room\"]\n",
    "X = train[feature_names]\n",
    "y = train[\"booking_status\"]\n",
    "\n",
    "# Decision Tree 학습/예측/평가\n",
    "X_train, X_test, y_train, y_test = train_test_split(X,y)"
   ]
  },
  {
   "cell_type": "code",
   "execution_count": 2,
   "metadata": {},
   "outputs": [
    {
     "name": "stdout",
     "output_type": "stream",
     "text": [
      "MLPClassifier 정확도: 0.6812\n"
     ]
    }
   ],
   "source": [
    "# multi-layer perceptron 학습/예측/평가\n",
    "# default\n",
    "mlp_model = MLPClassifier()\n",
    "mlp_model.fit(X_train , y_train)\n",
    "mlp_pred = mlp_model.predict(X_test)\n",
    "print('MLPClassifier 정확도: {0:.4f}'.format(accuracy_score(y_test, mlp_pred)))"
   ]
  },
  {
   "cell_type": "code",
   "execution_count": 2,
   "metadata": {},
   "outputs": [
    {
     "name": "stdout",
     "output_type": "stream",
     "text": [
      "Cross Validation Scores:  [0.65898799 0.67395157 0.67388736 0.65990547 0.67369043]\n",
      "Average CV Score:  0.6680845632313891\n",
      "Number of CV Scores used in Average:  5\n"
     ]
    }
   ],
   "source": [
    "# cross validation\n",
    "mlp_model = MLPClassifier()\n",
    "k_folds = KFold(n_splits = 10)\n",
    "# scores = cross_val_score(mlp_model, X, y, cv=k_folds)\n",
    "scores = cross_val_score(mlp_model, X, y)\n",
    "print(\"Cross Validation Scores: \", scores)\n",
    "print(\"Average CV Score: \", scores.mean())\n",
    "print(\"Number of CV Scores used in Average: \", len(scores))"
   ]
  },
  {
   "cell_type": "code",
   "execution_count": null,
   "metadata": {},
   "outputs": [],
   "source": []
  }
 ],
 "metadata": {
  "kernelspec": {
   "display_name": "Python 3",
   "language": "python",
   "name": "python3"
  },
  "language_info": {
   "codemirror_mode": {
    "name": "ipython",
    "version": 3
   },
   "file_extension": ".py",
   "mimetype": "text/x-python",
   "name": "python",
   "nbconvert_exporter": "python",
   "pygments_lexer": "ipython3",
   "version": "3.10.3"
  },
  "orig_nbformat": 4
 },
 "nbformat": 4,
 "nbformat_minor": 2
}
