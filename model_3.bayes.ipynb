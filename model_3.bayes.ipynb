{
 "cells": [
  {
   "cell_type": "code",
   "execution_count": 41,
   "metadata": {},
   "outputs": [
    {
     "data": {
      "text/plain": [
       "Index(['Booking_ID', 'no_of_adults', 'no_of_children', 'no_of_weekend_nights',\n",
       "       'no_of_week_nights', 'type_of_meal_plan', 'required_car_parking_space',\n",
       "       'room_type_reserved', 'lead_time', 'arrival_year', 'arrival_month',\n",
       "       'arrival_date', 'market_segment_type', 'repeated_guest',\n",
       "       'no_of_previous_cancellations', 'no_of_previous_bookings_not_canceled',\n",
       "       'avg_price_per_room', 'no_of_special_requests', 'booking_status',\n",
       "       'meal_type_1', 'meal_type_2', 'meal_type_3', 'meal_type_4',\n",
       "       'room_type_1', 'room_type_2', 'room_type_3', 'room_type_4',\n",
       "       'room_type_5', 'room_type_6', 'room_type_7', 'Corporate',\n",
       "       'Complementary', 'Online', 'Offline', 'Aviation',\n",
       "       'lead_time_under_iqr_1', 'lead_time_under_iqr_2',\n",
       "       'lead_time_under_iqr_3', 'lead_time_under_iqr_4', 'price_under_iqr_1',\n",
       "       'price_under_iqr_2', 'price_under_iqr_3', 'price_under_iqr_4',\n",
       "       'lead_time_norm', 'price_norm'],\n",
       "      dtype='object')"
      ]
     },
     "execution_count": 41,
     "metadata": {},
     "output_type": "execute_result"
    }
   ],
   "source": [
    "train = pd.read_csv('del_outlier.csv')\n",
    "train.keys()"
   ]
  },
  {
   "cell_type": "code",
   "execution_count": null,
   "metadata": {},
   "outputs": [],
   "source": []
  },
  {
   "cell_type": "code",
   "execution_count": 56,
   "metadata": {},
   "outputs": [
    {
     "name": "stdout",
     "output_type": "stream",
     "text": [
      "Cross Validation Scores:  [0.73110236 0.73346457 0.73572273 0.73335959 0.73729815 0.73808586\n",
      " 0.73966128 0.74871997 0.7439937  0.73690429]\n",
      "Average CV Score:  0.7378312498255559\n",
      "Number of CV Scores used in Average:  10\n"
     ]
    }
   ],
   "source": [
    "from sklearn.naive_bayes import GaussianNB\n",
    "from sklearn.model_selection import train_test_split\n",
    "from sklearn.metrics import accuracy_score\n",
    "import pandas as pd\n",
    "from sklearn.model_selection import KFold, cross_val_score\n",
    "import numpy as np\n",
    "from sklearn.model_selection import GridSearchCV\n",
    "\n",
    "'''\n",
    "attr_name = ['no_of_adults', 'no_of_children', 'no_of_weekend_nights',\n",
    "       'no_of_week_nights', 'type_of_meal_plan', 'required_car_parking_space',\n",
    "       'room_type_reserved', 'lead_time', 'arrival_year', 'arrival_month',\n",
    "       'arrival_date', 'market_segment_type', 'repeated_guest',\n",
    "       'no_of_previous_cancellations', 'no_of_previous_bookings_not_canceled',\n",
    "       'avg_price_per_room', 'no_of_special_requests', 'booking_status']\n",
    "'''\n",
    "\n",
    "# 77\n",
    "# train = pd.read_csv('conti_to_onehot_train.csv')\n",
    "# feature_names = [\n",
    "#        'no_of_special_requests', 'Aviation', 'lead_time', 'avg_price_per_room']\n",
    "\n",
    "# train = pd.read_csv('kaggle_2.csv')\n",
    "\n",
    "# feature_names = ['no_of_adults',\n",
    "#        'lead_time',\n",
    "#        'nights', 'lead_x_nights', 'market_segment_type_Offline',\n",
    "#        'market_segment_type_Online']\n",
    "\n",
    "train = pd.read_csv('real_real_final_train.csv')\n",
    "\n",
    "feature_names = ['no_of_adults',\n",
    "                 'type_of_meal_plan', 'required_car_parking_space', 'room_type_reserved',\n",
    "                 'lead_time', 'market_segment_type',\n",
    "                 'avg_price_per_room', 'no_of_special_requests',\n",
    "                 'nights', 'lead_nights', 'lead_weekend_nights', \"lead_car\", 'lead_room', 'lead_market', 'lead_price']\n",
    "\n",
    "X = train[feature_names]\n",
    "y = train[\"booking_status\"]\n",
    "\n",
    "# Decision Tree 학습/예측/평가\n",
    "X_train, X_test, y_train, y_test = train_test_split(X, y, test_size=0.2, random_state = 42)\n",
    "\n",
    "# Decision Tree 학습/예측/평가\n",
    "nb_model = GaussianNB(var_smoothing = 2.848035868435799e-07)\n",
    "scores = cross_val_score(nb_model, X, y, cv = 10)\n",
    "print(\"Cross Validation Scores: \", scores)\n",
    "print(\"Average CV Score: \", scores.mean())\n",
    "print(\"Number of CV Scores used in Average: \", len(scores))"
   ]
  },
  {
   "cell_type": "code",
   "execution_count": 37,
   "metadata": {},
   "outputs": [
    {
     "name": "stdout",
     "output_type": "stream",
     "text": [
      "Fitting 10 folds for each of 100 candidates, totalling 1000 fits\n",
      "GaussianNB(var_smoothing=2.848035868435799e-07)\n"
     ]
    }
   ],
   "source": [
    "from sklearn.naive_bayes import GaussianNB\n",
    "from sklearn.model_selection import GridSearchCV\n",
    "param_grid_nb = {\n",
    "    'var_smoothing': np.logspace(0,-9, num=100)\n",
    "}\n",
    "\n",
    "nbModel_grid = GridSearchCV(estimator=GaussianNB(), param_grid=param_grid_nb, verbose=1, cv=10, n_jobs=-1)\n",
    "nbModel_grid.fit(X_train, y_train)\n",
    "print(nbModel_grid.best_estimator_)"
   ]
  },
  {
   "cell_type": "code",
   "execution_count": 40,
   "metadata": {},
   "outputs": [
    {
     "name": "stdout",
     "output_type": "stream",
     "text": [
      "0.7445212240868707\n"
     ]
    }
   ],
   "source": [
    "\n",
    "nb_model.fit(X_train, y_train)\n",
    "\n",
    "print(nb_model.score(X_test, y_test))"
   ]
  }
 ],
 "metadata": {
  "kernelspec": {
   "display_name": "Python 3",
   "language": "python",
   "name": "python3"
  },
  "language_info": {
   "codemirror_mode": {
    "name": "ipython",
    "version": 3
   },
   "file_extension": ".py",
   "mimetype": "text/x-python",
   "name": "python",
   "nbconvert_exporter": "python",
   "pygments_lexer": "ipython3",
   "version": "3.10.3"
  },
  "orig_nbformat": 4
 },
 "nbformat": 4,
 "nbformat_minor": 2
}
