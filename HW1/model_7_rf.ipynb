{
 "cells": [
  {
   "cell_type": "code",
   "execution_count": 3,
   "metadata": {},
   "outputs": [],
   "source": [
    "from sklearn.ensemble import RandomForestClassifier\n",
    "from sklearn.model_selection import train_test_split\n",
    "from sklearn.metrics import accuracy_score\n",
    "import pandas as pd\n",
    "from sklearn.model_selection import KFold, cross_val_score\n",
    "from sklearn.model_selection import cross_validate\n",
    "from sklearn.metrics import confusion_matrix, accuracy_score\n",
    "import matplotlib.pyplot as plt\n",
    "from sklearn.model_selection import GridSearchCV"
   ]
  },
  {
   "cell_type": "code",
   "execution_count": 5,
   "metadata": {},
   "outputs": [
    {
     "name": "stdout",
     "output_type": "stream",
     "text": [
      "Cross Validation Scores:  {'fit_time': array([0.51627231, 0.86972213, 0.70313406, 0.55669069, 0.53223062]), 'score_time': array([0.08529806, 0.05385518, 0.10523438, 0.1524272 , 0.11952639]), 'test_score': array([0.87083224, 0.87030717, 0.85613022, 0.86951956, 0.86607143]), 'train_score': array([0.98477191, 0.9851001 , 0.98523138, 0.98444372, 0.98477291])}\n"
     ]
    },
    {
     "ename": "AttributeError",
     "evalue": "'dict' object has no attribute 'mean'",
     "output_type": "error",
     "traceback": [
      "\u001b[1;31m---------------------------------------------------------------------------\u001b[0m",
      "\u001b[1;31mAttributeError\u001b[0m                            Traceback (most recent call last)",
      "\u001b[1;32mc:\\STUDY\\5학기\\Data-Mining\\model_7_rf.ipynb Cell 2\u001b[0m in \u001b[0;36m<cell line: 57>\u001b[1;34m()\u001b[0m\n\u001b[0;32m     <a href='vscode-notebook-cell:/c%3A/STUDY/5%ED%95%99%EA%B8%B0/Data-Mining/model_7_rf.ipynb#W1sZmlsZQ%3D%3D?line=53'>54</a>\u001b[0m scores \u001b[39m=\u001b[39m cross_validate(rf, X_train, y_train, return_train_score\u001b[39m=\u001b[39m\u001b[39mTrue\u001b[39;00m, n_jobs\u001b[39m=\u001b[39m\u001b[39m-\u001b[39m\u001b[39m1\u001b[39m)\n\u001b[0;32m     <a href='vscode-notebook-cell:/c%3A/STUDY/5%ED%95%99%EA%B8%B0/Data-Mining/model_7_rf.ipynb#W1sZmlsZQ%3D%3D?line=55'>56</a>\u001b[0m \u001b[39mprint\u001b[39m(\u001b[39m\"\u001b[39m\u001b[39mCross Validation Scores: \u001b[39m\u001b[39m\"\u001b[39m, scores)\n\u001b[1;32m---> <a href='vscode-notebook-cell:/c%3A/STUDY/5%ED%95%99%EA%B8%B0/Data-Mining/model_7_rf.ipynb#W1sZmlsZQ%3D%3D?line=56'>57</a>\u001b[0m \u001b[39mprint\u001b[39m(\u001b[39m\"\u001b[39m\u001b[39mAverage CV Score: \u001b[39m\u001b[39m\"\u001b[39m, scores\u001b[39m.\u001b[39;49mmean())\n\u001b[0;32m     <a href='vscode-notebook-cell:/c%3A/STUDY/5%ED%95%99%EA%B8%B0/Data-Mining/model_7_rf.ipynb#W1sZmlsZQ%3D%3D?line=57'>58</a>\u001b[0m \u001b[39mprint\u001b[39m(\u001b[39m\"\u001b[39m\u001b[39mNumber of CV Scores used in Average: \u001b[39m\u001b[39m\"\u001b[39m, \u001b[39mlen\u001b[39m(scores))\n",
      "\u001b[1;31mAttributeError\u001b[0m: 'dict' object has no attribute 'mean'"
     ]
    }
   ],
   "source": [
    "'''\n",
    "feature_names = ['no_of_adults', 'no_of_children', 'no_of_weekend_nights',\n",
    "                 'no_of_week_nights', 'required_car_parking_space',\n",
    "                 'lead_time', 'arrival_year', 'arrival_month',\n",
    "                 'arrival_date', 'repeated_guest',\n",
    "                 'no_of_previous_cancellations', 'no_of_previous_bookings_not_canceled',\n",
    "                 'avg_price_per_room', 'no_of_special_requests',\n",
    "                 'meal_type_1', 'meal_type_2', 'meal_type_3', 'meal_type_4',\n",
    "                 'room_type_1', 'room_type_2', 'room_type_3', 'room_type_4',\n",
    "                 'room_type_5', 'room_type_6', 'room_type_7', 'Corporate',\n",
    "                 'Complementary', 'Online', 'Offline', 'Aviation']\n",
    "'''\n",
    "\n",
    "train = pd.read_csv('conti_to_onehot_train.csv')\n",
    "train['lead_12'] = train['lead_time_under_iqr_1'] + train['lead_time_under_iqr_2']\n",
    "train['lead_34'] = train['lead_time_under_iqr_3'] + train['lead_time_under_iqr_4']\n",
    "\n",
    "feature_names = ['no_of_adults', 'no_of_children', 'no_of_weekend_nights',\n",
    "       'no_of_week_nights', 'required_car_parking_space',\n",
    "       'arrival_year', 'arrival_month',\n",
    "       'arrival_date', 'repeated_guest',\n",
    "       'no_of_previous_cancellations', 'no_of_previous_bookings_not_canceled',\n",
    "       'no_of_special_requests', \n",
    "       'meal_type_1', 'meal_type_2', 'meal_type_3', 'meal_type_4',\n",
    "       'room_type_1', 'room_type_2', 'room_type_3', 'room_type_4',\n",
    "       'room_type_5', 'room_type_6', 'room_type_7', 'Corporate',\n",
    "       'Complementary', 'Online', 'Offline', 'Aviation',\n",
    "       'lead_time_under_iqr_1', 'lead_time_under_iqr_2',\n",
    "       'lead_time_under_iqr_3', 'lead_time_under_iqr_4', 'price_under_iqr_1',\n",
    "       'price_under_iqr_2', 'price_under_iqr_3', 'price_under_iqr_4']\n",
    "\n",
    "# 87 프로 피쳐\n",
    "# train = pd.read_csv('onehot_sample.csv')\n",
    "\n",
    "# feature_names = ['no_of_adults', 'no_of_children', 'no_of_weekend_nights',\n",
    "#                  'no_of_week_nights', 'required_car_parking_space',\n",
    "#                  'lead_time', 'arrival_year', 'arrival_month',\n",
    "#                  'arrival_date', 'repeated_guest',\n",
    "#                  'no_of_previous_cancellations', 'no_of_previous_bookings_not_canceled',\n",
    "#                  'avg_price_per_room', 'no_of_special_requests',\n",
    "#                  'meal_type_1', 'meal_type_2', 'meal_type_3', 'meal_type_4',\n",
    "#                  'room_type_1', 'room_type_2', 'room_type_3', 'room_type_4',\n",
    "#                  'room_type_5', 'room_type_6', 'room_type_7', 'Corporate',\n",
    "#                  'Complementary', 'Online', 'Offline', 'Aviation']\n",
    "\n",
    "X = train[feature_names]\n",
    "y = train[\"booking_status\"]\n",
    "\n",
    "# Decision Tree 학습/예측/평가\n",
    "X_train, X_test, y_train, y_test = train_test_split(X, y, test_size = 0.25, random_state = 42)\n",
    "\n",
    "# Decision Tree 학습/예측/평가\n",
    "rf = RandomForestClassifier(n_jobs=-1, random_state=42)\n",
    "scores = cross_validate(rf, X_train, y_train, return_train_score=True, n_jobs=-1)\n",
    "\n",
    "print(\"Cross Validation Scores: \", scores)\n",
    "print(\"Average CV Score: \", scores.mean())\n",
    "print(\"Number of CV Scores used in Average: \", len(scores))"
   ]
  }
 ],
 "metadata": {
  "kernelspec": {
   "display_name": "Python 3",
   "language": "python",
   "name": "python3"
  },
  "language_info": {
   "codemirror_mode": {
    "name": "ipython",
    "version": 3
   },
   "file_extension": ".py",
   "mimetype": "text/x-python",
   "name": "python",
   "nbconvert_exporter": "python",
   "pygments_lexer": "ipython3",
   "version": "3.10.3"
  },
  "orig_nbformat": 4
 },
 "nbformat": 4,
 "nbformat_minor": 2
}
