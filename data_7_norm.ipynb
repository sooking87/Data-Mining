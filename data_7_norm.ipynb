{
 "cells": [
  {
   "cell_type": "code",
   "execution_count": 4,
   "metadata": {},
   "outputs": [],
   "source": [
    "from sklearn.preprocessing import OneHotEncoder\n",
    "import seaborn as sb\n",
    "import numpy as np\n",
    "import scipy.stats as stats\n",
    "import numpy as np\n",
    "import matplotlib.pyplot as plt\n",
    "from pylab import rcParams\n",
    "import pandas as pd\n"
   ]
  },
  {
   "cell_type": "code",
   "execution_count": 25,
   "metadata": {},
   "outputs": [],
   "source": [
    "def get_standard_norm(series):\n",
    "    # price = price.loc[outlier:len(data)-outlier, :]\n",
    "    mean = np.mean(series)   # 17.41\n",
    "    std = np.std(series)     # 2.94\n",
    "\n",
    "    price_pdf = stats.norm.pdf(series.sort_values(), mean, std)\n",
    "    \n",
    "    # plt.plot(series.sort_values(), price_pdf, color=\"Black\", label=\"Cultivar_A\")\n",
    "    # sb.histplot(data = series, color=\"Black\",stat = \"probability\",alpha=0.3)\n",
    "    \n",
    "    return price_pdf"
   ]
  },
  {
   "cell_type": "code",
   "execution_count": 70,
   "metadata": {},
   "outputs": [
    {
     "data": {
      "image/png": "[encoded data removed]",
      "text/plain": [
       "<Figure size 432x288 with 1 Axes>"
      ]
     },
     "metadata": {},
     "output_type": "display_data"
    },
    {
     "data": {
      "image/png": "[encoded data removed]",
      "text/plain": [
       "<Figure size 432x288 with 1 Axes>"
      ]
     },
     "metadata": {},
     "output_type": "display_data"
    },
    {
     "name": "stdout",
     "output_type": "stream",
     "text": [
      "                  0\n",
      "count  2.539200e+04\n",
      "mean   3.375520e-03\n",
      "std    1.181545e-03\n",
      "min    7.780628e-07\n",
      "25%    2.931636e-03\n",
      "50%    3.569920e-03\n",
      "75%    4.347440e-03\n",
      "max    4.652647e-03\n",
      "                  0\n",
      "count  2.539200e+04\n",
      "mean   8.498698e-03\n",
      "std    3.026260e-03\n",
      "min    9.763694e-16\n",
      "25%    6.916225e-03\n",
      "50%    9.493580e-03\n",
      "75%    1.093105e-02\n",
      "max    1.137678e-02\n"
     ]
    }
   ],
   "source": [
    "data = pd.read_csv('onehot_sample.csv')\n",
    "data = data.sort_values(by=['lead_time'])\n",
    "\n",
    "lead_time_pdf = get_standard_norm(data['lead_time'])\n",
    "avg_price_per_room_pdf = get_standard_norm(data['avg_price_per_room'])\n",
    "lead_time_pdf = pd.DataFrame(lead_time_pdf)\n",
    "avg_price_per_room_pdf = pd.DataFrame(avg_price_per_room_pdf)\n",
    "\n",
    "lead_time_pdf.plot()\n",
    "# plt.figure(figsize=(15, 15))\n",
    "# plt.title(\"lead_time\")\n",
    "plt.show()\n",
    "\n",
    "avg_price_per_room_pdf.plot()\n",
    "plt.show()\n",
    "\n",
    "print(lead_time_pdf.describe())\n",
    "print(avg_price_per_room_pdf.describe())"
   ]
  },
  {
   "cell_type": "code",
   "execution_count": 72,
   "metadata": {},
   "outputs": [
    {
     "name": "stdout",
     "output_type": "stream",
     "text": [
      "0\n",
      "0\n",
      "0\n",
      "0\n"
     ]
    }
   ],
   "source": [
    "lead_time_pdf\n",
    "count_under_iqr_1 = 0\n",
    "count_under_iqr_2 = 0\n",
    "count_under_iqr_3 = 0\n",
    "count_upper_iqr_4 = 0\n",
    "\n",
    "for i in range(len(lead_time_pdf)):\n",
    "    if lead_time_pdf.loc[i, 0] < 2.931636e-03:\n",
    "        data['lead_time_under_iqr_1'] = 1\n",
    "    else:\n",
    "        data['lead_time_under_iqr_1'] = 0\n",
    "        \n",
    "    if 2.931636e-03 < lead_time_pdf.loc[i, 0] < 3.569920e-03:\n",
    "        data['lead_time_under_iqr_2'] = 1\n",
    "    else:\n",
    "        data['lead_time_under_iqr_2'] = 0\n",
    "        \n",
    "    if 3.569920e-03 < lead_time_pdf.loc[i, 0] < 4.347440e-03:\n",
    "        data['lead_time_under_iqr_3'] = 1\n",
    "    else:\n",
    "        data['lead_time_under_iqr_3'] = 0\n",
    "        \n",
    "    if 4.347440e-03 < lead_time_pdf.loc[i, 0]:\n",
    "        data['lead_time_upper_iqr_3'] = 1\n",
    "    else:\n",
    "        data['lead_time_upper_iqr_3'] = 0\n",
    "print(count_under_iqr_1)\n",
    "print(count_under_iqr_2)\n",
    "print(count_under_iqr_3)\n",
    "print(count_upper_iqr_4)\n",
    "data.to_csv('temp.csv', index=False)\n"
   ]
  },
  {
   "cell_type": "code",
   "execution_count": 75,
   "metadata": {},
   "outputs": [],
   "source": [
    "data = pd.read_csv('temp.csv')\n",
    "data = data.sort_values(by=['avg_price_per_room'])\n",
    "\n",
    "\n",
    "for i in range(len(avg_price_per_room_pdf)):\n",
    "    if avg_price_per_room_pdf.loc[i, 0] < 6.916225e-03:\n",
    "        data['price_under_iqr_1'] = 1\n",
    "    else:\n",
    "        data['price_under_iqr_1'] = 0\n",
    "\n",
    "    if 6.916225e-03 < avg_price_per_room_pdf.loc[i, 0] < 9.493580e-03:\n",
    "        data['price_under_iqr_2'] = 1\n",
    "    else:\n",
    "        data['price_under_iqr_2'] = 0\n",
    "\n",
    "    if 9.493580e-03 < avg_price_per_room_pdf.loc[i, 0] < 1.093105e-02:\n",
    "        data['price_under_iqr_3'] = 1\n",
    "    else:\n",
    "        data['price_under_iqr_3'] = 0\n",
    "\n",
    "    if 1.093105e-02 < avg_price_per_room_pdf.loc[i, 0]:\n",
    "        data['price_upper_iqr_3'] = 1\n",
    "    else:\n",
    "        data['price_upper_iqr_3'] = 0\n",
    "\n",
    "data.to_csv('conti_to_dis_train.csv', index = False)\n"
   ]
  },
  {
   "cell_type": "code",
   "execution_count": null,
   "metadata": {},
   "outputs": [],
   "source": []
  },
  {
   "cell_type": "code",
   "execution_count": null,
   "metadata": {},
   "outputs": [],
   "source": []
  }
 ],
 "metadata": {
  "kernelspec": {
   "display_name": "Python 3",
   "language": "python",
   "name": "python3"
  },
  "language_info": {
   "codemirror_mode": {
    "name": "ipython",
    "version": 3
   },
   "file_extension": ".py",
   "mimetype": "text/x-python",
   "name": "python",
   "nbconvert_exporter": "python",
   "pygments_lexer": "ipython3",
   "version": "3.10.5"
  },
  "orig_nbformat": 4
 },
 "nbformat": 4,
 "nbformat_minor": 2
}
