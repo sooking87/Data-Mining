{
 "cells": [
  {
   "cell_type": "code",
   "execution_count": 1,
   "metadata": {},
   "outputs": [],
   "source": [
    "from sklearn.neural_network import MLPClassifier\n",
    "from sklearn.model_selection import train_test_split\n",
    "from sklearn.metrics import accuracy_score\n",
    "import pandas as pd\n",
    "from sklearn.model_selection import KFold, cross_val_score"
   ]
  },
  {
   "cell_type": "code",
   "execution_count": 2,
   "metadata": {},
   "outputs": [
    {
     "name": "stdout",
     "output_type": "stream",
     "text": [
      "Cross Validation Scores:  [0.7332152  0.74660366 0.75640016 0.7439937  0.75187082]\n",
      "Average CV Score:  0.7464167066222143\n",
      "Number of CV Scores used in Average:  5\n"
     ]
    }
   ],
   "source": [
    "'''\n",
    "attr_name = ['no_of_adults', 'no_of_children', 'no_of_weekend_nights',\n",
    "       'no_of_week_nights', 'type_of_meal_plan', 'required_car_parking_space',\n",
    "       'room_type_reserved', 'lead_time', 'arrival_year', 'arrival_month',\n",
    "       'arrival_date', 'market_segment_type', 'repeated_guest',\n",
    "       'no_of_previous_cancellations', 'no_of_previous_bookings_not_canceled',\n",
    "       'avg_price_per_room', 'no_of_special_requests', 'booking_status']\n",
    "'''\n",
    "\n",
    "train = pd.read_csv('num_booking_status.csv')\n",
    "#no_of_adults,no_of_children,avg_price_per_room 특징만 고려\n",
    "feature_names = [\"no_of_adults\", \"no_of_children\", \"lead_time\", \"no_of_previous_bookings_not_canceled\"]\n",
    "X = train[feature_names]\n",
    "y = train[\"booking_status\"]\n",
    "\n",
    "# Decision Tree 학습/예측/평가\n",
    "X_train, X_test, y_train, y_test = train_test_split(X,y)\n",
    "\n",
    "mlp_model = MLPClassifier()\n",
    "k_folds = KFold(n_splits = 5)\n",
    "# scores = cross_val_score(mlp_model, X, y, cv=k_folds)\n",
    "scores = cross_val_score(mlp_model, X, y)\n",
    "print(\"Cross Validation Scores: \", scores)\n",
    "print(\"Average CV Score: \", scores.mean())\n",
    "print(\"Number of CV Scores used in Average: \", len(scores))"
   ]
  },
  {
   "cell_type": "code",
   "execution_count": 25,
   "metadata": {},
   "outputs": [
    {
     "name": "stdout",
     "output_type": "stream",
     "text": [
      "Cross Validation Scores:  [0.74950787 0.75885827 0.75688976 0.74249138 0.75381585 0.72476613\n",
      " 0.72181192 0.7483998  0.7469227  0.74741507]\n",
      "Average CV Score:  0.7450878751400536\n",
      "Number of CV Scores used in Average:  10\n"
     ]
    }
   ],
   "source": [
    "train = pd.read_csv('num_booking_status.csv')\n",
    "#no_of_adults,no_of_children,avg_price_per_room 특징만 고려\n",
    "feature_names = [\"no_of_adults\", \"no_of_children\", \"lead_time\"]\n",
    "X = train[feature_names]\n",
    "y = train[\"booking_status\"]\n",
    "\n",
    "# Decision Tree 학습/예측/평가\n",
    "X_train, X_test, y_train, y_test = train_test_split(X, y, test_size=0.2)\n",
    "\n",
    "mlp_model = MLPClassifier(hidden_layer_sizes=(5,2),\n",
    "                        max_iter = 300,activation = 'relu',\n",
    "                        solver = 'adam')\n",
    "k_folds = KFold(n_splits = 10)\n",
    "# scores = cross_val_score(mlp_model, X, y, cv=k_folds)\n",
    "scores = cross_val_score(mlp_model, X_train, y_train, cv=k_folds)\n",
    "print(\"Cross Validation Scores: \", scores)\n",
    "print(\"Average CV Score: \", scores.mean())\n",
    "print(\"Number of CV Scores used in Average: \", len(scores))"
   ]
  },
  {
   "cell_type": "code",
   "execution_count": 24,
   "metadata": {},
   "outputs": [
    {
     "ename": "AttributeError",
     "evalue": "'MLPClassifier' object has no attribute 'evaluate'",
     "output_type": "error",
     "traceback": [
      "\u001b[1;31m---------------------------------------------------------------------------\u001b[0m",
      "\u001b[1;31mAttributeError\u001b[0m                            Traceback (most recent call last)",
      "\u001b[1;32mc:\\STUDY\\5학기\\Data-Mining\\model_1.ipynb Cell 4\u001b[0m in \u001b[0;36m<cell line: 1>\u001b[1;34m()\u001b[0m\n\u001b[1;32m----> <a href='vscode-notebook-cell:/c%3A/STUDY/5%ED%95%99%EA%B8%B0/Data-Mining/model_1.ipynb#W4sZmlsZQ%3D%3D?line=0'>1</a>\u001b[0m mlp_model\u001b[39m.\u001b[39;49mevaluate(X_test, y_test)\n",
      "\u001b[1;31mAttributeError\u001b[0m: 'MLPClassifier' object has no attribute 'evaluate'"
     ]
    }
   ],
   "source": [
    "mlp_model.evaluate(X_test, y_test)"
   ]
  }
 ],
 "metadata": {
  "kernelspec": {
   "display_name": "Python 3",
   "language": "python",
   "name": "python3"
  },
  "language_info": {
   "codemirror_mode": {
    "name": "ipython",
    "version": 3
   },
   "file_extension": ".py",
   "mimetype": "text/x-python",
   "name": "python",
   "nbconvert_exporter": "python",
   "pygments_lexer": "ipython3",
   "version": "3.10.3"
  },
  "orig_nbformat": 4
 },
 "nbformat": 4,
 "nbformat_minor": 2
}
